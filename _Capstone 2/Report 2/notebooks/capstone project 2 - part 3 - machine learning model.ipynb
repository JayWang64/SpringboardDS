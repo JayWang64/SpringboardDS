{
 "cells": [
  {
   "cell_type": "code",
   "execution_count": 1,
   "metadata": {},
   "outputs": [],
   "source": [
    "import numpy as np\n",
    "import pandas as pd\n",
    "import matplotlib.pyplot as plt"
   ]
  },
  {
   "cell_type": "code",
   "execution_count": 2,
   "metadata": {},
   "outputs": [],
   "source": [
    "from sklearn.pipeline import Pipeline\n",
    "\n",
    "from sklearn.neighbors import KNeighborsClassifier\n",
    "\n",
    "from sklearn.ensemble import RandomForestClassifier\n",
    "from sklearn.tree import DecisionTreeClassifier\n",
    "\n",
    "from sklearn.model_selection import train_test_split\n",
    "from sklearn.metrics import classification_report\n",
    "from sklearn.metrics import confusion_matrix\n",
    "\n",
    "from sklearn.model_selection import RandomizedSearchCV\n",
    "from sklearn.model_selection import GridSearchCV\n",
    "from sklearn.model_selection import cross_val_score\n",
    "\n",
    "from sklearn.metrics import precision_recall_curve"
   ]
  },
  {
   "cell_type": "code",
   "execution_count": 3,
   "metadata": {},
   "outputs": [],
   "source": [
    "df_train = pd.read_csv('../data/interim/df_train.csv', index_col='id')\n",
    "df_contest = pd.read_csv('../data/interim/df_contest.csv', index_col='id')"
   ]
  },
  {
   "cell_type": "code",
   "execution_count": 4,
   "metadata": {},
   "outputs": [],
   "source": [
    "df_train_fact = pd.read_csv('../data/interim/factor_df_train.csv', index_col='id')\n",
    "df_contest_fact = pd.read_csv('../data/interim/factor_df_contest.csv', index_col='id')"
   ]
  },
  {
   "cell_type": "code",
   "execution_count": 5,
   "metadata": {},
   "outputs": [
    {
     "name": "stdout",
     "output_type": "stream",
     "text": [
      "<class 'pandas.core.frame.DataFrame'>\n",
      "Int64Index: 55083 entries, 69572 to 26348\n",
      "Columns: 187 entries, amount_tsh to status_group\n",
      "dtypes: float64(9), int64(177), object(1)\n",
      "memory usage: 79.0+ MB\n"
     ]
    }
   ],
   "source": [
    "df_train.info()"
   ]
  },
  {
   "cell_type": "code",
   "execution_count": 6,
   "metadata": {},
   "outputs": [
    {
     "name": "stdout",
     "output_type": "stream",
     "text": [
      "['amount_tsh' 'gps_height' 'longitude' 'latitude' 'num_private'\n",
      " 'population' 'construction_year' 'basin_Internal' 'basin_Lake Nyasa'\n",
      " 'basin_Lake Rukwa' 'basin_Lake Tanganyika' 'basin_Lake Victoria'\n",
      " 'basin_Pangani' 'basin_Rufiji' 'basin_Ruvuma / Southern Coast'\n",
      " 'basin_Wami / Ruvu' 'region_Arusha' 'region_Dar es Salaam'\n",
      " 'region_Dodoma' 'region_Iringa' 'region_Kagera' 'region_Kigoma'\n",
      " 'region_Kilimanjaro' 'region_Lindi' 'region_Manyara' 'region_Mara'\n",
      " 'region_Mbeya' 'region_Morogoro' 'region_Mtwara' 'region_Mwanza'\n",
      " 'region_Pwani' 'region_Rukwa' 'region_Ruvuma' 'region_Shinyanga'\n",
      " 'region_Singida' 'region_Tabora' 'region_Tanga' 'region_code_1'\n",
      " 'region_code_2' 'region_code_3' 'region_code_4' 'region_code_5'\n",
      " 'region_code_6' 'region_code_7' 'region_code_8' 'region_code_9'\n",
      " 'region_code_10' 'region_code_11' 'region_code_12' 'region_code_13'\n",
      " 'region_code_14' 'region_code_15' 'region_code_16' 'region_code_17'\n",
      " 'region_code_18' 'region_code_19' 'region_code_20' 'region_code_21'\n",
      " 'region_code_24' 'region_code_40' 'region_code_60' 'region_code_80'\n",
      " 'region_code_90' 'region_code_99' 'district_code_0' 'district_code_1'\n",
      " 'district_code_2' 'district_code_3' 'district_code_4' 'district_code_5'\n",
      " 'district_code_6' 'district_code_7' 'district_code_8' 'district_code_13'\n",
      " 'district_code_23' 'district_code_30' 'district_code_33'\n",
      " 'district_code_43' 'district_code_53' 'district_code_60'\n",
      " 'district_code_62' 'district_code_63' 'district_code_67'\n",
      " 'district_code_80' 'public_meeting_False' 'public_meeting_True'\n",
      " 'public_meeting_unknown' 'scheme_management_Company'\n",
      " 'scheme_management_None' 'scheme_management_Other'\n",
      " 'scheme_management_Parastatal' 'scheme_management_Private operator'\n",
      " 'scheme_management_SWC' 'scheme_management_Trust' 'scheme_management_VWC'\n",
      " 'scheme_management_WUA' 'scheme_management_WUG'\n",
      " 'scheme_management_Water Board' 'scheme_management_Water authority'\n",
      " 'scheme_management_unknown' 'permit_False' 'permit_True' 'permit_unknown'\n",
      " 'extraction_type_group_afridev' 'extraction_type_group_gravity'\n",
      " 'extraction_type_group_india mark ii'\n",
      " 'extraction_type_group_india mark iii' 'extraction_type_group_mono'\n",
      " 'extraction_type_group_nira/tanira' 'extraction_type_group_other'\n",
      " 'extraction_type_group_other handpump'\n",
      " 'extraction_type_group_other motorpump' 'extraction_type_group_rope pump'\n",
      " 'extraction_type_group_submersible' 'extraction_type_group_swn 80'\n",
      " 'extraction_type_group_wind-powered' 'management_company'\n",
      " 'management_other' 'management_other - school' 'management_parastatal'\n",
      " 'management_private operator' 'management_trust' 'management_unknown'\n",
      " 'management_vwc' 'management_water authority' 'management_water board'\n",
      " 'management_wua' 'management_wug' 'payment_never pay' 'payment_other'\n",
      " 'payment_pay annually' 'payment_pay monthly' 'payment_pay per bucket'\n",
      " 'payment_pay when scheme fails' 'payment_unknown' 'payment_type_annually'\n",
      " 'payment_type_monthly' 'payment_type_never pay' 'payment_type_on failure'\n",
      " 'payment_type_other' 'payment_type_per bucket' 'payment_type_unknown'\n",
      " 'water_quality_coloured' 'water_quality_fluoride'\n",
      " 'water_quality_fluoride abandoned' 'water_quality_milky'\n",
      " 'water_quality_salty' 'water_quality_salty abandoned'\n",
      " 'water_quality_soft' 'water_quality_unknown' 'quality_group_colored'\n",
      " 'quality_group_fluoride' 'quality_group_good' 'quality_group_milky'\n",
      " 'quality_group_salty' 'quality_group_unknown' 'quantity_dry'\n",
      " 'quantity_enough' 'quantity_insufficient' 'quantity_seasonal'\n",
      " 'quantity_unknown' 'source_dam' 'source_hand dtw' 'source_lake'\n",
      " 'source_machine dbh' 'source_other' 'source_rainwater harvesting'\n",
      " 'source_river' 'source_shallow well' 'source_spring' 'source_unknown'\n",
      " 'waterpoint_type_cattle trough' 'waterpoint_type_communal standpipe'\n",
      " 'waterpoint_type_communal standpipe multiple' 'waterpoint_type_dam'\n",
      " 'waterpoint_type_hand pump' 'waterpoint_type_improved spring'\n",
      " 'waterpoint_type_other' 'pump_age_yr' 'date_recorded_age_yr'\n",
      " 'lga_freq_encode' 'funder_freq_encode' 'ward_freq_encode'\n",
      " 'installer_freq_encode' 'subvillage_freq_encode' 'wpt_name_freq_encode'\n",
      " 'status_group']\n"
     ]
    }
   ],
   "source": [
    "print(df_train.columns.values)"
   ]
  },
  {
   "cell_type": "code",
   "execution_count": 7,
   "metadata": {},
   "outputs": [],
   "source": [
    "# https://stackoverflow.com/questions/40336502/want-to-know-the-diff-among-pd-factorize-pd-get-dummies-sklearn-preprocessing/40338956"
   ]
  },
  {
   "cell_type": "markdown",
   "metadata": {},
   "source": [
    "# Prepare Splits"
   ]
  },
  {
   "cell_type": "code",
   "execution_count": 8,
   "metadata": {},
   "outputs": [
    {
     "data": {
      "text/html": [
       "<div>\n",
       "<style scoped>\n",
       "    .dataframe tbody tr th:only-of-type {\n",
       "        vertical-align: middle;\n",
       "    }\n",
       "\n",
       "    .dataframe tbody tr th {\n",
       "        vertical-align: top;\n",
       "    }\n",
       "\n",
       "    .dataframe thead th {\n",
       "        text-align: right;\n",
       "    }\n",
       "</style>\n",
       "<table border=\"1\" class=\"dataframe\">\n",
       "  <thead>\n",
       "    <tr style=\"text-align: right;\">\n",
       "      <th></th>\n",
       "      <th>amount_tsh</th>\n",
       "      <th>gps_height</th>\n",
       "      <th>longitude</th>\n",
       "      <th>latitude</th>\n",
       "      <th>num_private</th>\n",
       "      <th>population</th>\n",
       "      <th>construction_year</th>\n",
       "      <th>basin_Internal</th>\n",
       "      <th>basin_Lake Nyasa</th>\n",
       "      <th>basin_Lake Rukwa</th>\n",
       "      <th>...</th>\n",
       "      <th>waterpoint_type_other</th>\n",
       "      <th>pump_age_yr</th>\n",
       "      <th>date_recorded_age_yr</th>\n",
       "      <th>lga_freq_encode</th>\n",
       "      <th>funder_freq_encode</th>\n",
       "      <th>ward_freq_encode</th>\n",
       "      <th>installer_freq_encode</th>\n",
       "      <th>subvillage_freq_encode</th>\n",
       "      <th>wpt_name_freq_encode</th>\n",
       "      <th>status_group</th>\n",
       "    </tr>\n",
       "    <tr>\n",
       "      <th>id</th>\n",
       "      <th></th>\n",
       "      <th></th>\n",
       "      <th></th>\n",
       "      <th></th>\n",
       "      <th></th>\n",
       "      <th></th>\n",
       "      <th></th>\n",
       "      <th></th>\n",
       "      <th></th>\n",
       "      <th></th>\n",
       "      <th></th>\n",
       "      <th></th>\n",
       "      <th></th>\n",
       "      <th></th>\n",
       "      <th></th>\n",
       "      <th></th>\n",
       "      <th></th>\n",
       "      <th></th>\n",
       "      <th></th>\n",
       "      <th></th>\n",
       "      <th></th>\n",
       "    </tr>\n",
       "  </thead>\n",
       "  <tbody>\n",
       "    <tr>\n",
       "      <th>69572</th>\n",
       "      <td>6000.0</td>\n",
       "      <td>1390</td>\n",
       "      <td>34.938093</td>\n",
       "      <td>-9.856322</td>\n",
       "      <td>0</td>\n",
       "      <td>109</td>\n",
       "      <td>1999</td>\n",
       "      <td>0</td>\n",
       "      <td>1</td>\n",
       "      <td>0</td>\n",
       "      <td>...</td>\n",
       "      <td>0</td>\n",
       "      <td>16</td>\n",
       "      <td>4</td>\n",
       "      <td>0.009666</td>\n",
       "      <td>0.004676</td>\n",
       "      <td>0.000572</td>\n",
       "      <td>0.001602</td>\n",
       "      <td>0.000086</td>\n",
       "      <td>0.062403</td>\n",
       "      <td>functional</td>\n",
       "    </tr>\n",
       "    <tr>\n",
       "      <th>8776</th>\n",
       "      <td>500.0</td>\n",
       "      <td>1399</td>\n",
       "      <td>34.698766</td>\n",
       "      <td>-2.147466</td>\n",
       "      <td>0</td>\n",
       "      <td>280</td>\n",
       "      <td>2010</td>\n",
       "      <td>0</td>\n",
       "      <td>0</td>\n",
       "      <td>0</td>\n",
       "      <td>...</td>\n",
       "      <td>0</td>\n",
       "      <td>5</td>\n",
       "      <td>2</td>\n",
       "      <td>0.012555</td>\n",
       "      <td>0.000915</td>\n",
       "      <td>0.001244</td>\n",
       "      <td>0.000715</td>\n",
       "      <td>0.000086</td>\n",
       "      <td>0.013670</td>\n",
       "      <td>functional</td>\n",
       "    </tr>\n",
       "    <tr>\n",
       "      <th>34310</th>\n",
       "      <td>25.0</td>\n",
       "      <td>686</td>\n",
       "      <td>37.460664</td>\n",
       "      <td>-3.821329</td>\n",
       "      <td>0</td>\n",
       "      <td>250</td>\n",
       "      <td>2009</td>\n",
       "      <td>0</td>\n",
       "      <td>0</td>\n",
       "      <td>0</td>\n",
       "      <td>...</td>\n",
       "      <td>0</td>\n",
       "      <td>6</td>\n",
       "      <td>2</td>\n",
       "      <td>0.005248</td>\n",
       "      <td>0.000129</td>\n",
       "      <td>0.000186</td>\n",
       "      <td>0.006621</td>\n",
       "      <td>0.008508</td>\n",
       "      <td>0.000043</td>\n",
       "      <td>functional</td>\n",
       "    </tr>\n",
       "    <tr>\n",
       "      <th>67743</th>\n",
       "      <td>50.0</td>\n",
       "      <td>263</td>\n",
       "      <td>38.486161</td>\n",
       "      <td>-11.155298</td>\n",
       "      <td>0</td>\n",
       "      <td>58</td>\n",
       "      <td>1986</td>\n",
       "      <td>0</td>\n",
       "      <td>0</td>\n",
       "      <td>0</td>\n",
       "      <td>...</td>\n",
       "      <td>0</td>\n",
       "      <td>29</td>\n",
       "      <td>2</td>\n",
       "      <td>0.003046</td>\n",
       "      <td>0.017517</td>\n",
       "      <td>0.000586</td>\n",
       "      <td>0.003947</td>\n",
       "      <td>0.000315</td>\n",
       "      <td>0.000029</td>\n",
       "      <td>non functional</td>\n",
       "    </tr>\n",
       "    <tr>\n",
       "      <th>19728</th>\n",
       "      <td>500.0</td>\n",
       "      <td>1300</td>\n",
       "      <td>31.130847</td>\n",
       "      <td>-1.825359</td>\n",
       "      <td>0</td>\n",
       "      <td>914</td>\n",
       "      <td>2002</td>\n",
       "      <td>0</td>\n",
       "      <td>0</td>\n",
       "      <td>0</td>\n",
       "      <td>...</td>\n",
       "      <td>0</td>\n",
       "      <td>13</td>\n",
       "      <td>4</td>\n",
       "      <td>0.013184</td>\n",
       "      <td>0.000014</td>\n",
       "      <td>0.000200</td>\n",
       "      <td>0.002331</td>\n",
       "      <td>0.000029</td>\n",
       "      <td>0.029171</td>\n",
       "      <td>functional</td>\n",
       "    </tr>\n",
       "    <tr>\n",
       "      <th>...</th>\n",
       "      <td>...</td>\n",
       "      <td>...</td>\n",
       "      <td>...</td>\n",
       "      <td>...</td>\n",
       "      <td>...</td>\n",
       "      <td>...</td>\n",
       "      <td>...</td>\n",
       "      <td>...</td>\n",
       "      <td>...</td>\n",
       "      <td>...</td>\n",
       "      <td>...</td>\n",
       "      <td>...</td>\n",
       "      <td>...</td>\n",
       "      <td>...</td>\n",
       "      <td>...</td>\n",
       "      <td>...</td>\n",
       "      <td>...</td>\n",
       "      <td>...</td>\n",
       "      <td>...</td>\n",
       "      <td>...</td>\n",
       "      <td>...</td>\n",
       "    </tr>\n",
       "    <tr>\n",
       "      <th>60739</th>\n",
       "      <td>10.0</td>\n",
       "      <td>1210</td>\n",
       "      <td>37.169807</td>\n",
       "      <td>-3.253847</td>\n",
       "      <td>0</td>\n",
       "      <td>125</td>\n",
       "      <td>1999</td>\n",
       "      <td>0</td>\n",
       "      <td>0</td>\n",
       "      <td>0</td>\n",
       "      <td>...</td>\n",
       "      <td>0</td>\n",
       "      <td>16</td>\n",
       "      <td>2</td>\n",
       "      <td>0.011096</td>\n",
       "      <td>0.010925</td>\n",
       "      <td>0.002145</td>\n",
       "      <td>0.010925</td>\n",
       "      <td>0.000057</td>\n",
       "      <td>0.000014</td>\n",
       "      <td>functional</td>\n",
       "    </tr>\n",
       "    <tr>\n",
       "      <th>27263</th>\n",
       "      <td>4700.0</td>\n",
       "      <td>1212</td>\n",
       "      <td>35.249991</td>\n",
       "      <td>-9.070629</td>\n",
       "      <td>0</td>\n",
       "      <td>56</td>\n",
       "      <td>1996</td>\n",
       "      <td>0</td>\n",
       "      <td>0</td>\n",
       "      <td>0</td>\n",
       "      <td>...</td>\n",
       "      <td>0</td>\n",
       "      <td>19</td>\n",
       "      <td>4</td>\n",
       "      <td>0.043384</td>\n",
       "      <td>0.000443</td>\n",
       "      <td>0.000944</td>\n",
       "      <td>0.000229</td>\n",
       "      <td>0.000243</td>\n",
       "      <td>0.000014</td>\n",
       "      <td>functional</td>\n",
       "    </tr>\n",
       "    <tr>\n",
       "      <th>37057</th>\n",
       "      <td>500.0</td>\n",
       "      <td>1700</td>\n",
       "      <td>34.017087</td>\n",
       "      <td>-8.750434</td>\n",
       "      <td>0</td>\n",
       "      <td>200</td>\n",
       "      <td>1994</td>\n",
       "      <td>0</td>\n",
       "      <td>0</td>\n",
       "      <td>0</td>\n",
       "      <td>...</td>\n",
       "      <td>0</td>\n",
       "      <td>21</td>\n",
       "      <td>4</td>\n",
       "      <td>0.009252</td>\n",
       "      <td>0.058156</td>\n",
       "      <td>0.001187</td>\n",
       "      <td>0.058527</td>\n",
       "      <td>0.000029</td>\n",
       "      <td>0.000257</td>\n",
       "      <td>functional</td>\n",
       "    </tr>\n",
       "    <tr>\n",
       "      <th>31282</th>\n",
       "      <td>500.0</td>\n",
       "      <td>1120</td>\n",
       "      <td>35.861315</td>\n",
       "      <td>-6.378573</td>\n",
       "      <td>0</td>\n",
       "      <td>219</td>\n",
       "      <td>2006</td>\n",
       "      <td>0</td>\n",
       "      <td>0</td>\n",
       "      <td>0</td>\n",
       "      <td>...</td>\n",
       "      <td>0</td>\n",
       "      <td>9</td>\n",
       "      <td>4</td>\n",
       "      <td>0.005863</td>\n",
       "      <td>0.000071</td>\n",
       "      <td>0.000486</td>\n",
       "      <td>0.000100</td>\n",
       "      <td>0.000429</td>\n",
       "      <td>0.000014</td>\n",
       "      <td>functional</td>\n",
       "    </tr>\n",
       "    <tr>\n",
       "      <th>26348</th>\n",
       "      <td>500.0</td>\n",
       "      <td>191</td>\n",
       "      <td>38.104048</td>\n",
       "      <td>-6.747464</td>\n",
       "      <td>0</td>\n",
       "      <td>150</td>\n",
       "      <td>2002</td>\n",
       "      <td>0</td>\n",
       "      <td>0</td>\n",
       "      <td>0</td>\n",
       "      <td>...</td>\n",
       "      <td>0</td>\n",
       "      <td>13</td>\n",
       "      <td>4</td>\n",
       "      <td>0.008637</td>\n",
       "      <td>0.022936</td>\n",
       "      <td>0.000972</td>\n",
       "      <td>0.001959</td>\n",
       "      <td>0.000014</td>\n",
       "      <td>0.000014</td>\n",
       "      <td>functional</td>\n",
       "    </tr>\n",
       "  </tbody>\n",
       "</table>\n",
       "<p>55083 rows × 187 columns</p>\n",
       "</div>"
      ],
      "text/plain": [
       "       amount_tsh  gps_height  longitude   latitude  num_private  population  \\\n",
       "id                                                                             \n",
       "69572      6000.0        1390  34.938093  -9.856322            0         109   \n",
       "8776        500.0        1399  34.698766  -2.147466            0         280   \n",
       "34310        25.0         686  37.460664  -3.821329            0         250   \n",
       "67743        50.0         263  38.486161 -11.155298            0          58   \n",
       "19728       500.0        1300  31.130847  -1.825359            0         914   \n",
       "...           ...         ...        ...        ...          ...         ...   \n",
       "60739        10.0        1210  37.169807  -3.253847            0         125   \n",
       "27263      4700.0        1212  35.249991  -9.070629            0          56   \n",
       "37057       500.0        1700  34.017087  -8.750434            0         200   \n",
       "31282       500.0        1120  35.861315  -6.378573            0         219   \n",
       "26348       500.0         191  38.104048  -6.747464            0         150   \n",
       "\n",
       "       construction_year  basin_Internal  basin_Lake Nyasa  basin_Lake Rukwa  \\\n",
       "id                                                                             \n",
       "69572               1999               0                 1                 0   \n",
       "8776                2010               0                 0                 0   \n",
       "34310               2009               0                 0                 0   \n",
       "67743               1986               0                 0                 0   \n",
       "19728               2002               0                 0                 0   \n",
       "...                  ...             ...               ...               ...   \n",
       "60739               1999               0                 0                 0   \n",
       "27263               1996               0                 0                 0   \n",
       "37057               1994               0                 0                 0   \n",
       "31282               2006               0                 0                 0   \n",
       "26348               2002               0                 0                 0   \n",
       "\n",
       "       ...  waterpoint_type_other  pump_age_yr  date_recorded_age_yr  \\\n",
       "id     ...                                                             \n",
       "69572  ...                      0           16                     4   \n",
       "8776   ...                      0            5                     2   \n",
       "34310  ...                      0            6                     2   \n",
       "67743  ...                      0           29                     2   \n",
       "19728  ...                      0           13                     4   \n",
       "...    ...                    ...          ...                   ...   \n",
       "60739  ...                      0           16                     2   \n",
       "27263  ...                      0           19                     4   \n",
       "37057  ...                      0           21                     4   \n",
       "31282  ...                      0            9                     4   \n",
       "26348  ...                      0           13                     4   \n",
       "\n",
       "       lga_freq_encode  funder_freq_encode  ward_freq_encode  \\\n",
       "id                                                             \n",
       "69572         0.009666            0.004676          0.000572   \n",
       "8776          0.012555            0.000915          0.001244   \n",
       "34310         0.005248            0.000129          0.000186   \n",
       "67743         0.003046            0.017517          0.000586   \n",
       "19728         0.013184            0.000014          0.000200   \n",
       "...                ...                 ...               ...   \n",
       "60739         0.011096            0.010925          0.002145   \n",
       "27263         0.043384            0.000443          0.000944   \n",
       "37057         0.009252            0.058156          0.001187   \n",
       "31282         0.005863            0.000071          0.000486   \n",
       "26348         0.008637            0.022936          0.000972   \n",
       "\n",
       "       installer_freq_encode  subvillage_freq_encode  wpt_name_freq_encode  \\\n",
       "id                                                                           \n",
       "69572               0.001602                0.000086              0.062403   \n",
       "8776                0.000715                0.000086              0.013670   \n",
       "34310               0.006621                0.008508              0.000043   \n",
       "67743               0.003947                0.000315              0.000029   \n",
       "19728               0.002331                0.000029              0.029171   \n",
       "...                      ...                     ...                   ...   \n",
       "60739               0.010925                0.000057              0.000014   \n",
       "27263               0.000229                0.000243              0.000014   \n",
       "37057               0.058527                0.000029              0.000257   \n",
       "31282               0.000100                0.000429              0.000014   \n",
       "26348               0.001959                0.000014              0.000014   \n",
       "\n",
       "         status_group  \n",
       "id                     \n",
       "69572      functional  \n",
       "8776       functional  \n",
       "34310      functional  \n",
       "67743  non functional  \n",
       "19728      functional  \n",
       "...               ...  \n",
       "60739      functional  \n",
       "27263      functional  \n",
       "37057      functional  \n",
       "31282      functional  \n",
       "26348      functional  \n",
       "\n",
       "[55083 rows x 187 columns]"
      ]
     },
     "execution_count": 8,
     "metadata": {},
     "output_type": "execute_result"
    }
   ],
   "source": [
    "df_train"
   ]
  },
  {
   "cell_type": "code",
   "execution_count": 9,
   "metadata": {},
   "outputs": [
    {
     "data": {
      "text/plain": [
       "functional        32259\n",
       "non functional    22824\n",
       "Name: status_group, dtype: int64"
      ]
     },
     "execution_count": 9,
     "metadata": {},
     "output_type": "execute_result"
    }
   ],
   "source": [
    "y = df_train['status_group']\n",
    "y.value_counts()"
   ]
  },
  {
   "cell_type": "code",
   "execution_count": 10,
   "metadata": {},
   "outputs": [],
   "source": [
    "X = df_train[df_train.columns[0:-1].values].copy()"
   ]
  },
  {
   "cell_type": "code",
   "execution_count": 11,
   "metadata": {},
   "outputs": [],
   "source": [
    "X_train, X_test, y_train, y_test = train_test_split(X, y, test_size = 0.2, random_state = 42)"
   ]
  },
  {
   "cell_type": "code",
   "execution_count": 12,
   "metadata": {},
   "outputs": [],
   "source": [
    "# try with a subset of X"
   ]
  },
  {
   "cell_type": "code",
   "execution_count": 13,
   "metadata": {},
   "outputs": [],
   "source": [
    "X2 = df_train[[\n",
    "'amount_tsh', 'gps_height', 'longitude', 'latitude', 'num_private', 'population', 'construction_year', 'basin_Internal', 'basin_Lake Nyasa', 'basin_Lake Rukwa', 'basin_Lake Tanganyika', 'basin_Lake Victoria', 'basin_Pangani', 'basin_Rufiji', 'basin_Ruvuma / Southern Coast', 'basin_Wami / Ruvu', 'region_Arusha', 'region_Dar es Salaam', 'region_Dodoma', 'region_Iringa', 'region_Kagera', 'region_Kigoma', 'region_Kilimanjaro', 'region_Lindi', 'region_Manyara', 'region_Mara', 'region_Mbeya', 'region_Morogoro', 'region_Mtwara', 'region_Mwanza', 'region_Pwani', 'region_Rukwa', 'region_Ruvuma', 'region_Shinyanga', 'region_Singida', 'region_Tabora', 'region_Tanga',\n",
    "\n",
    "'district_code_0', 'district_code_1', 'district_code_2', 'district_code_3', 'district_code_4', 'district_code_5', 'district_code_6', 'district_code_7', 'district_code_8', 'district_code_13', 'district_code_23', 'district_code_30', 'district_code_33', 'district_code_43', 'district_code_53', 'district_code_60', 'district_code_62', 'district_code_63', 'district_code_67', 'district_code_80',\n",
    "\n",
    "'scheme_management_Company', 'scheme_management_None', 'scheme_management_Other', 'scheme_management_Parastatal', 'scheme_management_Private operator', 'scheme_management_SWC', 'scheme_management_Trust', 'scheme_management_VWC', 'scheme_management_WUA', 'scheme_management_WUG', 'scheme_management_Water Board', 'scheme_management_Water authority', 'scheme_management_unknown',\n",
    "\n",
    "'extraction_type_group_afridev', 'extraction_type_group_gravity', 'extraction_type_group_india mark ii', 'extraction_type_group_india mark iii', 'extraction_type_group_mono', 'extraction_type_group_nira/tanira', 'extraction_type_group_other', 'extraction_type_group_other handpump', 'extraction_type_group_other motorpump', 'extraction_type_group_rope pump', 'extraction_type_group_submersible', 'extraction_type_group_swn 80', 'extraction_type_group_wind-powered', 'management_company', 'management_other', 'management_other - school', 'management_parastatal', 'management_private operator', 'management_trust', 'management_unknown', 'management_vwc', 'management_water authority', 'management_water board', 'management_wua', 'management_wug', 'payment_never pay', 'payment_other', 'payment_pay annually', 'payment_pay monthly', 'payment_pay per bucket', 'payment_pay when scheme fails', 'payment_unknown', 'payment_type_annually', 'payment_type_monthly', 'payment_type_never pay', 'payment_type_on failure', 'payment_type_other', 'payment_type_per bucket', 'payment_type_unknown', 'water_quality_coloured', 'water_quality_fluoride', 'water_quality_fluoride abandoned', 'water_quality_milky', 'water_quality_salty', 'water_quality_salty abandoned', 'water_quality_soft', 'water_quality_unknown', 'quality_group_colored', 'quality_group_fluoride', 'quality_group_good', 'quality_group_milky', 'quality_group_salty', 'quality_group_unknown', 'quantity_dry', 'quantity_enough', 'quantity_insufficient', 'quantity_seasonal', 'quantity_unknown', 'source_dam', 'source_hand dtw', 'source_lake', 'source_machine dbh', 'source_other', 'source_rainwater harvesting', 'source_river', 'source_shallow well', 'source_spring', 'source_unknown', 'waterpoint_type_cattle trough', 'waterpoint_type_communal standpipe', 'waterpoint_type_communal standpipe multiple', 'waterpoint_type_dam', 'waterpoint_type_hand pump', 'waterpoint_type_improved spring', 'waterpoint_type_other', 'lga_freq_encode', 'funder_freq_encode', 'ward_freq_encode', 'installer_freq_encode', 'subvillage_freq_encode', 'wpt_name_freq_encode', 'pump_age_yr', 'date_recorded_age_yr'    \n",
    "]]"
   ]
  },
  {
   "cell_type": "code",
   "execution_count": 14,
   "metadata": {},
   "outputs": [],
   "source": [
    "X2_train, X2_test, y2_train, y2_test = train_test_split(X2, y, test_size = 0.2, random_state = 42)"
   ]
  },
  {
   "cell_type": "code",
   "execution_count": 15,
   "metadata": {
    "scrolled": true
   },
   "outputs": [
    {
     "name": "stdout",
     "output_type": "stream",
     "text": [
      "['amount_tsh', 'gps_height', 'longitude', 'latitude', 'num_private', 'population', 'construction_year', 'basin_Internal', 'basin_Lake Nyasa', 'basin_Lake Rukwa', 'basin_Lake Tanganyika', 'basin_Lake Victoria', 'basin_Pangani', 'basin_Rufiji', 'basin_Ruvuma / Southern Coast', 'basin_Wami / Ruvu', 'region_Arusha', 'region_Dar es Salaam', 'region_Dodoma', 'region_Iringa', 'region_Kagera', 'region_Kigoma', 'region_Kilimanjaro', 'region_Lindi', 'region_Manyara', 'region_Mara', 'region_Mbeya', 'region_Morogoro', 'region_Mtwara', 'region_Mwanza', 'region_Pwani', 'region_Rukwa', 'region_Ruvuma', 'region_Shinyanga', 'region_Singida', 'region_Tabora', 'region_Tanga', 'region_code_1', 'region_code_2', 'region_code_3', 'region_code_4', 'region_code_5', 'region_code_6', 'region_code_7', 'region_code_8', 'region_code_9', 'region_code_10', 'region_code_11', 'region_code_12', 'region_code_13', 'region_code_14', 'region_code_15', 'region_code_16', 'region_code_17', 'region_code_18', 'region_code_19', 'region_code_20', 'region_code_21', 'region_code_24', 'region_code_40', 'region_code_60', 'region_code_80', 'region_code_90', 'region_code_99', 'district_code_0', 'district_code_1', 'district_code_2', 'district_code_3', 'district_code_4', 'district_code_5', 'district_code_6', 'district_code_7', 'district_code_8', 'district_code_13', 'district_code_23', 'district_code_30', 'district_code_33', 'district_code_43', 'district_code_53', 'district_code_60', 'district_code_62', 'district_code_63', 'district_code_67', 'district_code_80', 'public_meeting_False', 'public_meeting_True', 'public_meeting_unknown', 'scheme_management_Company', 'scheme_management_None', 'scheme_management_Other', 'scheme_management_Parastatal', 'scheme_management_Private operator', 'scheme_management_SWC', 'scheme_management_Trust', 'scheme_management_VWC', 'scheme_management_WUA', 'scheme_management_WUG', 'scheme_management_Water Board', 'scheme_management_Water authority', 'scheme_management_unknown', 'permit_False', 'permit_True', 'permit_unknown', 'extraction_type_group_afridev', 'extraction_type_group_gravity', 'extraction_type_group_india mark ii', 'extraction_type_group_india mark iii', 'extraction_type_group_mono', 'extraction_type_group_nira/tanira', 'extraction_type_group_other', 'extraction_type_group_other handpump', 'extraction_type_group_other motorpump', 'extraction_type_group_rope pump', 'extraction_type_group_submersible', 'extraction_type_group_swn 80', 'extraction_type_group_wind-powered', 'management_company', 'management_other', 'management_other - school', 'management_parastatal', 'management_private operator', 'management_trust', 'management_unknown', 'management_vwc', 'management_water authority', 'management_water board', 'management_wua', 'management_wug', 'payment_never pay', 'payment_other', 'payment_pay annually', 'payment_pay monthly', 'payment_pay per bucket', 'payment_pay when scheme fails', 'payment_unknown', 'payment_type_annually', 'payment_type_monthly', 'payment_type_never pay', 'payment_type_on failure', 'payment_type_other', 'payment_type_per bucket', 'payment_type_unknown', 'water_quality_coloured', 'water_quality_fluoride', 'water_quality_fluoride abandoned', 'water_quality_milky', 'water_quality_salty', 'water_quality_salty abandoned', 'water_quality_soft', 'water_quality_unknown', 'quality_group_colored', 'quality_group_fluoride', 'quality_group_good', 'quality_group_milky', 'quality_group_salty', 'quality_group_unknown', 'quantity_dry', 'quantity_enough', 'quantity_insufficient', 'quantity_seasonal', 'quantity_unknown', 'source_dam', 'source_hand dtw', 'source_lake', 'source_machine dbh', 'source_other', 'source_rainwater harvesting', 'source_river', 'source_shallow well', 'source_spring', 'source_unknown', 'waterpoint_type_cattle trough', 'waterpoint_type_communal standpipe', 'waterpoint_type_communal standpipe multiple', 'waterpoint_type_dam', 'waterpoint_type_hand pump', 'waterpoint_type_improved spring', 'waterpoint_type_other', 'pump_age_yr', 'date_recorded_age_yr', 'lga_freq_encode', 'funder_freq_encode', 'ward_freq_encode', 'installer_freq_encode', 'subvillage_freq_encode', 'wpt_name_freq_encode']\n"
     ]
    }
   ],
   "source": [
    "print(list(X.columns.values))"
   ]
  },
  {
   "cell_type": "code",
   "execution_count": 16,
   "metadata": {},
   "outputs": [
    {
     "data": {
      "text/plain": [
       "186"
      ]
     },
     "execution_count": 16,
     "metadata": {},
     "output_type": "execute_result"
    }
   ],
   "source": [
    "len(X.columns.values)"
   ]
  },
  {
   "cell_type": "markdown",
   "metadata": {},
   "source": [
    "## Prepare Splits - Factorized"
   ]
  },
  {
   "cell_type": "code",
   "execution_count": 17,
   "metadata": {},
   "outputs": [],
   "source": [
    "X_fact = df_train_fact[df_train_fact.columns[0:-1].values].copy()"
   ]
  },
  {
   "cell_type": "code",
   "execution_count": 18,
   "metadata": {},
   "outputs": [],
   "source": [
    "y_fact = df_train_fact['status_group']"
   ]
  },
  {
   "cell_type": "code",
   "execution_count": 19,
   "metadata": {},
   "outputs": [],
   "source": [
    "X_fact_train, X_fact_test, y_fact_train, y_fact_test = train_test_split(X_fact, \n",
    "                                                                        y_fact, \n",
    "                                                                        test_size = 0.2, \n",
    "                                                                        random_state = 42)"
   ]
  },
  {
   "cell_type": "markdown",
   "metadata": {},
   "source": [
    "## helper functions for modelling"
   ]
  },
  {
   "cell_type": "code",
   "execution_count": 112,
   "metadata": {},
   "outputs": [],
   "source": [
    "from sklearn.metrics import accuracy_score\n",
    "from sklearn.metrics import precision_score\n",
    "from sklearn.metrics import recall_score\n",
    "from sklearn.metrics import f1_score\n",
    "from sklearn.metrics import cohen_kappa_score\n",
    "from sklearn.metrics import roc_auc_score\n",
    "from sklearn.metrics import roc_curve\n",
    "\n",
    "from sklearn import metrics\n",
    "from sklearn.metrics import confusion_matrix"
   ]
  },
  {
   "cell_type": "code",
   "execution_count": 259,
   "metadata": {},
   "outputs": [],
   "source": [
    "def getConfusionMatrixP(y_pred, y_test, positive_label):\n",
    "    '''\n",
    "    a function to print the confusion matrix, labelled, as a dataframe\n",
    "\n",
    "    '''\n",
    "    # labels = np.unique(y_test)     \n",
    "    labels = np.sort(np.unique(y_test))[::-1]\n",
    "    desired_labels = []\n",
    "    desired_labels.append(positive_label)\n",
    "    \n",
    "    if labels[0] == positive_label:\n",
    "        desired_labels.append(labels[1])\n",
    "    else:\n",
    "        desired_labels.append(labels[0])\n",
    "    \n",
    "    a =  confusion_matrix(y_test, y_pred, labels=desired_labels)\n",
    "    \n",
    "    df_cm = pd.DataFrame(a, index=desired_labels, columns=desired_labels)\n",
    "    df_cm.index.name='Actual'\n",
    "    return df_cm"
   ]
  },
  {
   "cell_type": "code",
   "execution_count": 229,
   "metadata": {},
   "outputs": [],
   "source": [
    "def getConfusionMatrix(y_pred, y_test):\n",
    "    '''\n",
    "    a function to print the confusion matrix, labelled, as a dataframe\n",
    "    hard coded to sort descending the columns so that the 'non functional' is reported as positive\n",
    "    '''\n",
    "    # labels = np.unique(y_test)  \n",
    "    labels = np.sort(np.unique(y_test))[::-1]\n",
    "        \n",
    "    a =  confusion_matrix(y_test, y_pred, labels=labels)\n",
    "    \n",
    "    df_cm = pd.DataFrame(a, index=labels, columns=labels)\n",
    "    df_cm.index.name='Actual'\n",
    "    return df_cm"
   ]
  },
  {
   "cell_type": "code",
   "execution_count": 252,
   "metadata": {},
   "outputs": [],
   "source": [
    "def getNegativeLabel(df_conf_matrix, positive_label):\n",
    "    '''\n",
    "    helper function to get the negative column\n",
    "    '''\n",
    "    \n",
    "    conf_cols = list(df_conf_matrix.columns)\n",
    "    \n",
    "    if conf_cols[0] == positive_label:\n",
    "        negative_label = conf_cols[1]\n",
    "    else:\n",
    "        negative_label = conf_cols[0]\n",
    "        \n",
    "    return negative_label "
   ]
  },
  {
   "cell_type": "code",
   "execution_count": 251,
   "metadata": {},
   "outputs": [],
   "source": [
    "def getRecall(df_conf_matrix, positive_label):   \n",
    "   \n",
    "    negative_label = getNegativeLabel(df_conf_matrix, positive_label)\n",
    "\n",
    "    tp = df_conf_matrix[positive_label][0] # left, top\n",
    "    fn = df_conf_matrix[negative_label][0] # right, top\n",
    "        \n",
    "    recall = tp / (tp + fn)\n",
    "    return recall"
   ]
  },
  {
   "cell_type": "code",
   "execution_count": 253,
   "metadata": {},
   "outputs": [],
   "source": [
    "def getPrecision(df_conf_matrix, positive_label):\n",
    "\n",
    "    negative_label = getNegativeLabel(df_conf_matrix, positive_label)\n",
    "\n",
    "    tp = df_conf_matrix[positive_label][0] # left, top \n",
    "    fp = df_conf_matrix[positive_label][1] # left, bottom \n",
    "    \n",
    "    precision = tp / (tp + fp)\n",
    "    return precision\n",
    "\n",
    "def getSpecificity(df_conf_matrix, positive_label):\n",
    "    \n",
    "    negative_label = getNegativeLabel(df_conf_matrix, positive_label)\n",
    "    \n",
    "    fn = df_conf_matrix[negative_label][0] # right, top\n",
    "    tn = df_conf_matrix[negative_label][1] # right, bottom\n",
    "        \n",
    "    spec = tn / (fn + tn)\n",
    "    return spec"
   ]
  },
  {
   "cell_type": "code",
   "execution_count": 248,
   "metadata": {},
   "outputs": [
    {
     "data": {
      "text/plain": [
       "['non functional', 'functional']"
      ]
     },
     "execution_count": 248,
     "metadata": {},
     "output_type": "execute_result"
    }
   ],
   "source": [
    "df_conf_matrix2 = getConfusionMatrixP(y_pred, y_test, positive_label='non functional')\n",
    "list(df_conf_matrix2.columns)"
   ]
  },
  {
   "cell_type": "code",
   "execution_count": 148,
   "metadata": {},
   "outputs": [
    {
     "data": {
      "text/plain": [
       "Index(['amount_tsh', 'gps_height', 'longitude', 'latitude', 'num_private',\n",
       "       'population', 'construction_year', 'basin_Internal', 'basin_Lake Nyasa',\n",
       "       'basin_Lake Rukwa',\n",
       "       ...\n",
       "       'waterpoint_type_improved spring', 'waterpoint_type_other',\n",
       "       'pump_age_yr', 'date_recorded_age_yr', 'lga_freq_encode',\n",
       "       'funder_freq_encode', 'ward_freq_encode', 'installer_freq_encode',\n",
       "       'subvillage_freq_encode', 'wpt_name_freq_encode'],\n",
       "      dtype='object', length=186)"
      ]
     },
     "execution_count": 148,
     "metadata": {},
     "output_type": "execute_result"
    }
   ],
   "source": [
    "X_train.columns"
   ]
  },
  {
   "cell_type": "markdown",
   "metadata": {},
   "source": [
    "# Classification Modeling"
   ]
  },
  {
   "cell_type": "markdown",
   "metadata": {},
   "source": [
    "## 1A: k Nearest Neighbors,  kNN w/ single model score¶\n",
    "KNN model attempt"
   ]
  },
  {
   "cell_type": "code",
   "execution_count": 21,
   "metadata": {},
   "outputs": [
    {
     "data": {
      "text/plain": [
       "0.7102659526186802"
      ]
     },
     "execution_count": 21,
     "metadata": {},
     "output_type": "execute_result"
    }
   ],
   "source": [
    "from sklearn.neighbors import KNeighborsClassifier\n",
    "from sklearn import preprocessing\n",
    "\n",
    "knn = KNeighborsClassifier(n_neighbors=37)\n",
    "knn.fit(X_train, y_train)\n",
    "knn.score(X_test, y_test)"
   ]
  },
  {
   "cell_type": "code",
   "execution_count": 22,
   "metadata": {},
   "outputs": [],
   "source": [
    "y_pred = knn.predict(X_test)"
   ]
  },
  {
   "cell_type": "code",
   "execution_count": 254,
   "metadata": {},
   "outputs": [
    {
     "data": {
      "text/html": [
       "<div>\n",
       "<style scoped>\n",
       "    .dataframe tbody tr th:only-of-type {\n",
       "        vertical-align: middle;\n",
       "    }\n",
       "\n",
       "    .dataframe tbody tr th {\n",
       "        vertical-align: top;\n",
       "    }\n",
       "\n",
       "    .dataframe thead th {\n",
       "        text-align: right;\n",
       "    }\n",
       "</style>\n",
       "<table border=\"1\" class=\"dataframe\">\n",
       "  <thead>\n",
       "    <tr style=\"text-align: right;\">\n",
       "      <th></th>\n",
       "      <th>non functional</th>\n",
       "      <th>functional</th>\n",
       "    </tr>\n",
       "    <tr>\n",
       "      <th>Actual</th>\n",
       "      <th></th>\n",
       "      <th></th>\n",
       "    </tr>\n",
       "  </thead>\n",
       "  <tbody>\n",
       "    <tr>\n",
       "      <th>non functional</th>\n",
       "      <td>2347</td>\n",
       "      <td>2111</td>\n",
       "    </tr>\n",
       "    <tr>\n",
       "      <th>functional</th>\n",
       "      <td>1081</td>\n",
       "      <td>5478</td>\n",
       "    </tr>\n",
       "  </tbody>\n",
       "</table>\n",
       "</div>"
      ],
      "text/plain": [
       "                non functional  functional\n",
       "Actual                                    \n",
       "non functional            2347        2111\n",
       "functional                1081        5478"
      ]
     },
     "execution_count": 254,
     "metadata": {},
     "output_type": "execute_result"
    }
   ],
   "source": [
    "getConfusionMatrixP(y_pred, y_test, positive_label='non functional')"
   ]
  },
  {
   "cell_type": "code",
   "execution_count": 256,
   "metadata": {},
   "outputs": [
    {
     "name": "stdout",
     "output_type": "stream",
     "text": [
      "                precision    recall  f1-score   support\n",
      "\n",
      "    functional       0.72      0.84      0.77      6559\n",
      "non functional       0.68      0.53      0.60      4458\n",
      "\n",
      "      accuracy                           0.71     11017\n",
      "     macro avg       0.70      0.68      0.68     11017\n",
      "  weighted avg       0.71      0.71      0.70     11017\n",
      "\n"
     ]
    }
   ],
   "source": [
    "print(classification_report(y_test, y_pred))"
   ]
  },
  {
   "cell_type": "code",
   "execution_count": 261,
   "metadata": {},
   "outputs": [
    {
     "name": "stdout",
     "output_type": "stream",
     "text": [
      "Precision: 0.684656\n"
     ]
    }
   ],
   "source": [
    "# precision tp / (tp + fp)\n",
    "precision_knn = getPrecision(getConfusionMatrixP(y_pred, y_test, 'non functional'),'non functional')\n",
    "print('Precision: %f' % precision_knn )"
   ]
  },
  {
   "cell_type": "code",
   "execution_count": 262,
   "metadata": {},
   "outputs": [
    {
     "name": "stdout",
     "output_type": "stream",
     "text": [
      "Recall: 0.526469\n"
     ]
    }
   ],
   "source": [
    "# recall: tp / (tp + fn)\n",
    "recall_knn = getRecall(getConfusionMatrixP(y_pred, y_test, 'non functional'),'non functional')\n",
    "print('Recall: %f' % recall_knn)"
   ]
  },
  {
   "cell_type": "code",
   "execution_count": 265,
   "metadata": {},
   "outputs": [
    {
     "data": {
      "text/plain": [
       "array([0.32432432, 0.56756757, 0.64864865, ..., 0.91891892, 0.40540541,\n",
       "       0.24324324])"
      ]
     },
     "execution_count": 265,
     "metadata": {},
     "output_type": "execute_result"
    }
   ],
   "source": [
    "# Compute predicted probabilities: y_pred_prob\n",
    "y_pred_prob = knn.predict_proba(X_test)[:,1]\n",
    "y_pred_prob"
   ]
  },
  {
   "cell_type": "code",
   "execution_count": 264,
   "metadata": {},
   "outputs": [
    {
     "data": {
      "text/plain": [
       "array(['functional', 'non functional'], dtype=object)"
      ]
     },
     "execution_count": 264,
     "metadata": {},
     "output_type": "execute_result"
    }
   ],
   "source": [
    "knn.classes_"
   ]
  },
  {
   "cell_type": "code",
   "execution_count": 268,
   "metadata": {},
   "outputs": [
    {
     "data": {
      "image/png": "[encoded data removed]",
      "text/plain": [
       "<Figure size 432x288 with 1 Axes>"
      ]
     },
     "metadata": {
      "needs_background": "light"
     },
     "output_type": "display_data"
    }
   ],
   "source": [
    "# Compute predicted probabilities: y_pred_prob\n",
    "y_pred_prob = knn.predict_proba(X_test)[:,1]\n",
    "\n",
    "# Generate ROC curve values: fpr, tpr, thresholds\n",
    "fpr, tpr, thresholds = roc_curve(y_true=y_test, y_score=y_pred_prob, pos_label='non functional')\n",
    "auc = metrics.roc_auc_score(y_test, y_pred_proba)\n",
    "\n",
    "# Plot ROC curve\n",
    "plt.plot([0, 1], [0, 1], 'k--', label='chance prediction')\n",
    "plt.plot(fpr, tpr, label=\"test data, auc=\"+str(round(auc,2)))\n",
    "\n",
    "plt.legend(loc=4)\n",
    "plt.xlabel('False Positive Rate')\n",
    "plt.ylabel('True Positive Rate')\n",
    "plt.title('ROC Curve - (Non Functional as Positive)')\n",
    "plt.show()"
   ]
  },
  {
   "cell_type": "code",
   "execution_count": 270,
   "metadata": {},
   "outputs": [
    {
     "data": {
      "text/plain": [
       "Text(0.5, 1.0, '2-class Precision-Recall curve: Avg Prec=0.88')"
      ]
     },
     "execution_count": 270,
     "metadata": {},
     "output_type": "execute_result"
    },
    {
     "data": {
      "image/png": "[encoded data removed]",
      "text/plain": [
       "<Figure size 432x288 with 1 Axes>"
      ]
     },
     "metadata": {
      "needs_background": "light"
     },
     "output_type": "display_data"
    }
   ],
   "source": [
    "precision, recall, _ = precision_recall_curve(y_test, y_pred_prob, pos_label='non functional')\n",
    "\n",
    "plt.step(recall, precision, color='b', alpha=0.2, where='post')\n",
    "\n",
    "# plt.fill_between(recall, precision, step='post', alpha=0.2, color='b')\n",
    "\n",
    "plt.xlabel('Recall')\n",
    "plt.ylabel('Precision')\n",
    "plt.ylim([0.0, 1.05])\n",
    "plt.xlim([0.0, 1.0])\n",
    "plt.title('2-class Precision-Recall curve: Avg Prec={0:0.2f}'.format(average_precision))"
   ]
  },
  {
   "cell_type": "markdown",
   "metadata": {},
   "source": [
    "## 1B kNN w subset"
   ]
  },
  {
   "cell_type": "code",
   "execution_count": 25,
   "metadata": {},
   "outputs": [
    {
     "data": {
      "text/plain": [
       "0.7107197966778614"
      ]
     },
     "execution_count": 25,
     "metadata": {},
     "output_type": "execute_result"
    }
   ],
   "source": [
    "knn2 = KNeighborsClassifier(n_neighbors=37)\n",
    "knn2.fit(X2_train, y2_train)\n",
    "knn2.score(X2_test, y2_test)"
   ]
  },
  {
   "cell_type": "markdown",
   "metadata": {},
   "source": [
    "## 2A : Random Forest Classifier"
   ]
  },
  {
   "cell_type": "code",
   "execution_count": 26,
   "metadata": {},
   "outputs": [
    {
     "data": {
      "text/plain": [
       "0.7911409639647817"
      ]
     },
     "execution_count": 26,
     "metadata": {},
     "output_type": "execute_result"
    }
   ],
   "source": [
    "rfc = RandomForestClassifier(max_depth=6, random_state=42, n_estimators=1000)\n",
    "rfc.fit(X_train, y_train)\n",
    "\n",
    "# score on new data\n",
    "rfc.score(X_test, y_test)"
   ]
  },
  {
   "cell_type": "code",
   "execution_count": 27,
   "metadata": {},
   "outputs": [],
   "source": [
    "y_pred_rfc = rfc.predict(X_test)"
   ]
  },
  {
   "cell_type": "code",
   "execution_count": 271,
   "metadata": {},
   "outputs": [
    {
     "data": {
      "text/html": [
       "<div>\n",
       "<style scoped>\n",
       "    .dataframe tbody tr th:only-of-type {\n",
       "        vertical-align: middle;\n",
       "    }\n",
       "\n",
       "    .dataframe tbody tr th {\n",
       "        vertical-align: top;\n",
       "    }\n",
       "\n",
       "    .dataframe thead th {\n",
       "        text-align: right;\n",
       "    }\n",
       "</style>\n",
       "<table border=\"1\" class=\"dataframe\">\n",
       "  <thead>\n",
       "    <tr style=\"text-align: right;\">\n",
       "      <th></th>\n",
       "      <th>non functional</th>\n",
       "      <th>functional</th>\n",
       "    </tr>\n",
       "    <tr>\n",
       "      <th>Actual</th>\n",
       "      <th></th>\n",
       "      <th></th>\n",
       "    </tr>\n",
       "  </thead>\n",
       "  <tbody>\n",
       "    <tr>\n",
       "      <th>non functional</th>\n",
       "      <td>2448</td>\n",
       "      <td>2010</td>\n",
       "    </tr>\n",
       "    <tr>\n",
       "      <th>functional</th>\n",
       "      <td>291</td>\n",
       "      <td>6268</td>\n",
       "    </tr>\n",
       "  </tbody>\n",
       "</table>\n",
       "</div>"
      ],
      "text/plain": [
       "                non functional  functional\n",
       "Actual                                    \n",
       "non functional            2448        2010\n",
       "functional                 291        6268"
      ]
     },
     "execution_count": 271,
     "metadata": {},
     "output_type": "execute_result"
    }
   ],
   "source": [
    "getConfusionMatrixP(y_pred_rfc, y_test, 'non functional')"
   ]
  },
  {
   "cell_type": "code",
   "execution_count": 272,
   "metadata": {},
   "outputs": [
    {
     "name": "stdout",
     "output_type": "stream",
     "text": [
      "                precision    recall  f1-score   support\n",
      "\n",
      "    functional       0.76      0.96      0.84      6559\n",
      "non functional       0.89      0.55      0.68      4458\n",
      "\n",
      "      accuracy                           0.79     11017\n",
      "     macro avg       0.83      0.75      0.76     11017\n",
      "  weighted avg       0.81      0.79      0.78     11017\n",
      "\n"
     ]
    }
   ],
   "source": [
    "print(classification_report(y_test, y_pred_rfc))"
   ]
  },
  {
   "cell_type": "code",
   "execution_count": 274,
   "metadata": {},
   "outputs": [
    {
     "data": {
      "text/plain": [
       "0.8937568455640745"
      ]
     },
     "execution_count": 274,
     "metadata": {},
     "output_type": "execute_result"
    }
   ],
   "source": [
    "getPrecision(getConfusionMatrixP(y_pred_rfc, y_test, 'non functional'),'non functional')"
   ]
  },
  {
   "cell_type": "code",
   "execution_count": 275,
   "metadata": {},
   "outputs": [
    {
     "data": {
      "text/plain": [
       "0.5491251682368775"
      ]
     },
     "execution_count": 275,
     "metadata": {},
     "output_type": "execute_result"
    }
   ],
   "source": [
    "getRecall(getConfusionMatrixP(y_pred_rfc, y_test, 'non functional'),'non functional')"
   ]
  },
  {
   "cell_type": "code",
   "execution_count": 276,
   "metadata": {},
   "outputs": [
    {
     "data": {
      "text/plain": [
       "0.7571877265039865"
      ]
     },
     "execution_count": 276,
     "metadata": {},
     "output_type": "execute_result"
    }
   ],
   "source": [
    "getSpecificity(getConfusionMatrixP(y_pred_rfc, y_test, 'non functional'),'non functional')"
   ]
  },
  {
   "cell_type": "code",
   "execution_count": 193,
   "metadata": {},
   "outputs": [
    {
     "data": {
      "text/plain": [
       "186"
      ]
     },
     "execution_count": 193,
     "metadata": {},
     "output_type": "execute_result"
    }
   ],
   "source": [
    "rfc_feat_importances = rfc.feature_importances_\n",
    "len(rfc_feat_importances)\n"
   ]
  },
  {
   "cell_type": "code",
   "execution_count": 194,
   "metadata": {},
   "outputs": [
    {
     "data": {
      "text/plain": [
       "187"
      ]
     },
     "execution_count": 194,
     "metadata": {},
     "output_type": "execute_result"
    }
   ],
   "source": [
    "len(df_train.columns.values)"
   ]
  },
  {
   "cell_type": "code",
   "execution_count": 195,
   "metadata": {
    "scrolled": true
   },
   "outputs": [
    {
     "data": {
      "text/html": [
       "<div>\n",
       "<style scoped>\n",
       "    .dataframe tbody tr th:only-of-type {\n",
       "        vertical-align: middle;\n",
       "    }\n",
       "\n",
       "    .dataframe tbody tr th {\n",
       "        vertical-align: top;\n",
       "    }\n",
       "\n",
       "    .dataframe thead th {\n",
       "        text-align: right;\n",
       "    }\n",
       "</style>\n",
       "<table border=\"1\" class=\"dataframe\">\n",
       "  <thead>\n",
       "    <tr style=\"text-align: right;\">\n",
       "      <th></th>\n",
       "      <th>feature importances</th>\n",
       "      <th>feature</th>\n",
       "    </tr>\n",
       "  </thead>\n",
       "  <tbody>\n",
       "    <tr>\n",
       "      <th>156</th>\n",
       "      <td>0.189282</td>\n",
       "      <td>quantity_dry</td>\n",
       "    </tr>\n",
       "    <tr>\n",
       "      <th>177</th>\n",
       "      <td>0.103438</td>\n",
       "      <td>waterpoint_type_other</td>\n",
       "    </tr>\n",
       "    <tr>\n",
       "      <th>109</th>\n",
       "      <td>0.080915</td>\n",
       "      <td>extraction_type_group_other</td>\n",
       "    </tr>\n",
       "    <tr>\n",
       "      <th>157</th>\n",
       "      <td>0.070841</td>\n",
       "      <td>quantity_enough</td>\n",
       "    </tr>\n",
       "    <tr>\n",
       "      <th>178</th>\n",
       "      <td>0.051471</td>\n",
       "      <td>pump_age_yr</td>\n",
       "    </tr>\n",
       "    <tr>\n",
       "      <th>6</th>\n",
       "      <td>0.048055</td>\n",
       "      <td>construction_year</td>\n",
       "    </tr>\n",
       "    <tr>\n",
       "      <th>0</th>\n",
       "      <td>0.039652</td>\n",
       "      <td>amount_tsh</td>\n",
       "    </tr>\n",
       "    <tr>\n",
       "      <th>172</th>\n",
       "      <td>0.023054</td>\n",
       "      <td>waterpoint_type_communal standpipe</td>\n",
       "    </tr>\n",
       "    <tr>\n",
       "      <th>137</th>\n",
       "      <td>0.022864</td>\n",
       "      <td>payment_type_never pay</td>\n",
       "    </tr>\n",
       "    <tr>\n",
       "      <th>128</th>\n",
       "      <td>0.022095</td>\n",
       "      <td>payment_never pay</td>\n",
       "    </tr>\n",
       "    <tr>\n",
       "      <th>149</th>\n",
       "      <td>0.017113</td>\n",
       "      <td>water_quality_unknown</td>\n",
       "    </tr>\n",
       "    <tr>\n",
       "      <th>155</th>\n",
       "      <td>0.016513</td>\n",
       "      <td>quality_group_unknown</td>\n",
       "    </tr>\n",
       "    <tr>\n",
       "      <th>182</th>\n",
       "      <td>0.014261</td>\n",
       "      <td>ward_freq_encode</td>\n",
       "    </tr>\n",
       "    <tr>\n",
       "      <th>181</th>\n",
       "      <td>0.013540</td>\n",
       "      <td>funder_freq_encode</td>\n",
       "    </tr>\n",
       "    <tr>\n",
       "      <th>180</th>\n",
       "      <td>0.012875</td>\n",
       "      <td>lga_freq_encode</td>\n",
       "    </tr>\n",
       "    <tr>\n",
       "      <th>19</th>\n",
       "      <td>0.012132</td>\n",
       "      <td>region_Iringa</td>\n",
       "    </tr>\n",
       "    <tr>\n",
       "      <th>3</th>\n",
       "      <td>0.011150</td>\n",
       "      <td>latitude</td>\n",
       "    </tr>\n",
       "    <tr>\n",
       "      <th>173</th>\n",
       "      <td>0.011026</td>\n",
       "      <td>waterpoint_type_communal standpipe multiple</td>\n",
       "    </tr>\n",
       "    <tr>\n",
       "      <th>104</th>\n",
       "      <td>0.010879</td>\n",
       "      <td>extraction_type_group_gravity</td>\n",
       "    </tr>\n",
       "    <tr>\n",
       "      <th>175</th>\n",
       "      <td>0.010352</td>\n",
       "      <td>waterpoint_type_hand pump</td>\n",
       "    </tr>\n",
       "    <tr>\n",
       "      <th>2</th>\n",
       "      <td>0.009942</td>\n",
       "      <td>longitude</td>\n",
       "    </tr>\n",
       "    <tr>\n",
       "      <th>123</th>\n",
       "      <td>0.008878</td>\n",
       "      <td>management_vwc</td>\n",
       "    </tr>\n",
       "    <tr>\n",
       "      <th>47</th>\n",
       "      <td>0.008819</td>\n",
       "      <td>region_code_11</td>\n",
       "    </tr>\n",
       "    <tr>\n",
       "      <th>1</th>\n",
       "      <td>0.008490</td>\n",
       "      <td>gps_height</td>\n",
       "    </tr>\n",
       "    <tr>\n",
       "      <th>132</th>\n",
       "      <td>0.007901</td>\n",
       "      <td>payment_pay per bucket</td>\n",
       "    </tr>\n",
       "    <tr>\n",
       "      <th>5</th>\n",
       "      <td>0.007676</td>\n",
       "      <td>population</td>\n",
       "    </tr>\n",
       "    <tr>\n",
       "      <th>140</th>\n",
       "      <td>0.007535</td>\n",
       "      <td>payment_type_per bucket</td>\n",
       "    </tr>\n",
       "    <tr>\n",
       "      <th>158</th>\n",
       "      <td>0.007392</td>\n",
       "      <td>quantity_insufficient</td>\n",
       "    </tr>\n",
       "    <tr>\n",
       "      <th>108</th>\n",
       "      <td>0.007307</td>\n",
       "      <td>extraction_type_group_nira/tanira</td>\n",
       "    </tr>\n",
       "    <tr>\n",
       "      <th>141</th>\n",
       "      <td>0.006146</td>\n",
       "      <td>payment_type_unknown</td>\n",
       "    </tr>\n",
       "  </tbody>\n",
       "</table>\n",
       "</div>"
      ],
      "text/plain": [
       "     feature importances                                      feature\n",
       "156             0.189282                                 quantity_dry\n",
       "177             0.103438                        waterpoint_type_other\n",
       "109             0.080915                  extraction_type_group_other\n",
       "157             0.070841                              quantity_enough\n",
       "178             0.051471                                  pump_age_yr\n",
       "6               0.048055                            construction_year\n",
       "0               0.039652                                   amount_tsh\n",
       "172             0.023054           waterpoint_type_communal standpipe\n",
       "137             0.022864                       payment_type_never pay\n",
       "128             0.022095                            payment_never pay\n",
       "149             0.017113                        water_quality_unknown\n",
       "155             0.016513                        quality_group_unknown\n",
       "182             0.014261                             ward_freq_encode\n",
       "181             0.013540                           funder_freq_encode\n",
       "180             0.012875                              lga_freq_encode\n",
       "19              0.012132                                region_Iringa\n",
       "3               0.011150                                     latitude\n",
       "173             0.011026  waterpoint_type_communal standpipe multiple\n",
       "104             0.010879                extraction_type_group_gravity\n",
       "175             0.010352                    waterpoint_type_hand pump\n",
       "2               0.009942                                    longitude\n",
       "123             0.008878                               management_vwc\n",
       "47              0.008819                               region_code_11\n",
       "1               0.008490                                   gps_height\n",
       "132             0.007901                       payment_pay per bucket\n",
       "5               0.007676                                   population\n",
       "140             0.007535                      payment_type_per bucket\n",
       "158             0.007392                        quantity_insufficient\n",
       "108             0.007307            extraction_type_group_nira/tanira\n",
       "141             0.006146                         payment_type_unknown"
      ]
     },
     "execution_count": 195,
     "metadata": {},
     "output_type": "execute_result"
    }
   ],
   "source": [
    "rfc_coef = pd.DataFrame({'feature importances': rfc_feat_importances, 'feature': list(X.columns.values)}, columns=['feature importances', 'feature'])\n",
    "rfc_coef.sort_values('feature importances', ascending=False).head(30)"
   ]
  },
  {
   "cell_type": "code",
   "execution_count": 196,
   "metadata": {},
   "outputs": [
    {
     "data": {
      "text/plain": [
       "array([[0.33484104, 0.66515896],\n",
       "       [0.60392996, 0.39607004],\n",
       "       [0.65945719, 0.34054281],\n",
       "       ...,\n",
       "       [0.21088616, 0.78911384],\n",
       "       [0.52748038, 0.47251962],\n",
       "       [0.65084842, 0.34915158]])"
      ]
     },
     "execution_count": 196,
     "metadata": {},
     "output_type": "execute_result"
    }
   ],
   "source": [
    "rfc.predict_proba(X_test)"
   ]
  },
  {
   "cell_type": "code",
   "execution_count": 197,
   "metadata": {},
   "outputs": [
    {
     "data": {
      "text/plain": [
       "array(['functional', 'non functional'], dtype=object)"
      ]
     },
     "execution_count": 197,
     "metadata": {},
     "output_type": "execute_result"
    }
   ],
   "source": [
    "rfc.classes_\n",
    "# functional is the first column!"
   ]
  },
  {
   "cell_type": "code",
   "execution_count": 281,
   "metadata": {},
   "outputs": [
    {
     "data": {
      "text/plain": [
       "array([[0.33484104, 0.66515896],\n",
       "       [0.60392996, 0.39607004],\n",
       "       [0.65945719, 0.34054281],\n",
       "       ...,\n",
       "       [0.21088616, 0.78911384],\n",
       "       [0.52748038, 0.47251962],\n",
       "       [0.65084842, 0.34915158]])"
      ]
     },
     "execution_count": 281,
     "metadata": {},
     "output_type": "execute_result"
    }
   ],
   "source": [
    "rfc.predict_proba(X_test)"
   ]
  },
  {
   "cell_type": "code",
   "execution_count": 277,
   "metadata": {},
   "outputs": [
    {
     "data": {
      "text/plain": [
       "array([0.66515896, 0.39607004, 0.34054281, ..., 0.78911384, 0.47251962,\n",
       "       0.34915158])"
      ]
     },
     "execution_count": 277,
     "metadata": {},
     "output_type": "execute_result"
    }
   ],
   "source": [
    "y_pred_prob = rfc.predict_proba(X_test)[:,1]\n",
    "y_pred_prob"
   ]
  },
  {
   "cell_type": "code",
   "execution_count": 280,
   "metadata": {},
   "outputs": [
    {
     "data": {
      "image/png": "[encoded data removed]",
      "text/plain": [
       "<Figure size 432x288 with 1 Axes>"
      ]
     },
     "metadata": {
      "needs_background": "light"
     },
     "output_type": "display_data"
    }
   ],
   "source": [
    "# Compute predicted probabilities: y_pred_prob\n",
    "y_pred_prob = rfc.predict_proba(X_test)[:,1]\n",
    "\n",
    "# Generate ROC curve values: fpr, tpr, thresholds\n",
    "fpr, tpr, thresholds = roc_curve(y_true=y_test, y_score=y_pred_prob, pos_label='non functional')\n",
    "auc = metrics.roc_auc_score(y_test, y_pred_proba, labels=['non functional', 'functional'])\n",
    "\n",
    "# Plot ROC curve\n",
    "plt.plot([0, 1], [0, 1], 'k--', label='chance performance')\n",
    "\n",
    "plt.plot(fpr, tpr, label=\"test data, auc=\"+str(round(auc, 2)))\n",
    "\n",
    "#plt.plot(fpr, tpr, label=\"test data\")\n",
    "\n",
    "plt.legend(loc=4)\n",
    "plt.xlabel('False Positive Rate')\n",
    "plt.ylabel('True Positive Rate')\n",
    "plt.title('ROC Curve - Non Functional as Positive')\n",
    "plt.show()\n"
   ]
  },
  {
   "cell_type": "code",
   "execution_count": 279,
   "metadata": {},
   "outputs": [
    {
     "name": "stdout",
     "output_type": "stream",
     "text": [
      "Average precision-recall score RF: 0.8342467058859206\n"
     ]
    }
   ],
   "source": [
    "from sklearn.metrics import average_precision_score, auc, roc_curve, precision_recall_curve\n",
    "average_precision = average_precision_score(y_test, y_pred_prob, pos_label='non functional')\n",
    "\n",
    "\n",
    "print('Average precision-recall score RF: {}'.format(average_precision))"
   ]
  },
  {
   "cell_type": "code",
   "execution_count": 282,
   "metadata": {},
   "outputs": [
    {
     "data": {
      "text/plain": [
       "Text(0.5, 1.0, '2-class Precision-Recall curve: Avg Prec=0.83')"
      ]
     },
     "execution_count": 282,
     "metadata": {},
     "output_type": "execute_result"
    },
    {
     "data": {
      "image/png": "[encoded data removed]",
      "text/plain": [
       "<Figure size 432x288 with 1 Axes>"
      ]
     },
     "metadata": {
      "needs_background": "light"
     },
     "output_type": "display_data"
    }
   ],
   "source": [
    "# Compute predicted probabilities: y_pred_prob\n",
    "y_pred_prob = rfc.predict_proba(X_test)[:,1]\n",
    "\n",
    "precision, recall, _ = precision_recall_curve(y_test, y_pred_prob, pos_label='non functional')\n",
    "\n",
    "plt.step(recall, precision, color='b', alpha=0.2, where='post')\n",
    "\n",
    "# plt.fill_between(recall, precision, step='post', alpha=0.2, color='b')\n",
    "\n",
    "plt.xlabel('Recall')\n",
    "plt.ylabel('Precision')\n",
    "plt.ylim([0.0, 1.05])\n",
    "plt.xlim([0.0, 1.0])\n",
    "plt.title('2-class Precision-Recall curve: Avg Prec={0:0.2f}'.format(average_precision))"
   ]
  },
  {
   "cell_type": "markdown",
   "metadata": {},
   "source": [
    "# 2B Random Forest Classifier - Factorized"
   ]
  },
  {
   "cell_type": "code",
   "execution_count": 33,
   "metadata": {},
   "outputs": [
    {
     "data": {
      "text/plain": [
       "0.7893255877280566"
      ]
     },
     "execution_count": 33,
     "metadata": {},
     "output_type": "execute_result"
    }
   ],
   "source": [
    "rfc2B = RandomForestClassifier(max_depth=6, random_state=42, n_estimators=1000)\n",
    "rfc2B.fit(X_fact_train, y_fact_train)\n",
    "\n",
    "# score on new data\n",
    "rfc2B.score(X_fact_test, y_fact_test)"
   ]
  },
  {
   "cell_type": "code",
   "execution_count": 34,
   "metadata": {},
   "outputs": [
    {
     "data": {
      "text/plain": [
       "(31, 31)"
      ]
     },
     "execution_count": 34,
     "metadata": {},
     "output_type": "execute_result"
    }
   ],
   "source": [
    "len(rfc2B.feature_importances_), len(X_fact.columns.values)"
   ]
  },
  {
   "cell_type": "code",
   "execution_count": 35,
   "metadata": {
    "scrolled": true
   },
   "outputs": [
    {
     "data": {
      "text/html": [
       "<div>\n",
       "<style scoped>\n",
       "    .dataframe tbody tr th:only-of-type {\n",
       "        vertical-align: middle;\n",
       "    }\n",
       "\n",
       "    .dataframe tbody tr th {\n",
       "        vertical-align: top;\n",
       "    }\n",
       "\n",
       "    .dataframe thead th {\n",
       "        text-align: right;\n",
       "    }\n",
       "</style>\n",
       "<table border=\"1\" class=\"dataframe\">\n",
       "  <thead>\n",
       "    <tr style=\"text-align: right;\">\n",
       "      <th></th>\n",
       "      <th>feature importances</th>\n",
       "      <th>feature</th>\n",
       "    </tr>\n",
       "  </thead>\n",
       "  <tbody>\n",
       "    <tr>\n",
       "      <th>27</th>\n",
       "      <td>0.261708</td>\n",
       "      <td>quantity_factorize</td>\n",
       "    </tr>\n",
       "    <tr>\n",
       "      <th>29</th>\n",
       "      <td>0.129522</td>\n",
       "      <td>waterpoint_type_factorize</td>\n",
       "    </tr>\n",
       "    <tr>\n",
       "      <th>21</th>\n",
       "      <td>0.110492</td>\n",
       "      <td>extraction_type_group_factorize</td>\n",
       "    </tr>\n",
       "    <tr>\n",
       "      <th>9</th>\n",
       "      <td>0.078729</td>\n",
       "      <td>pump_age_yr</td>\n",
       "    </tr>\n",
       "    <tr>\n",
       "      <th>8</th>\n",
       "      <td>0.074043</td>\n",
       "      <td>construction_year</td>\n",
       "    </tr>\n",
       "    <tr>\n",
       "      <th>0</th>\n",
       "      <td>0.050452</td>\n",
       "      <td>amount_tsh</td>\n",
       "    </tr>\n",
       "    <tr>\n",
       "      <th>23</th>\n",
       "      <td>0.029701</td>\n",
       "      <td>payment_factorize</td>\n",
       "    </tr>\n",
       "    <tr>\n",
       "      <th>24</th>\n",
       "      <td>0.029592</td>\n",
       "      <td>payment_type_factorize</td>\n",
       "    </tr>\n",
       "    <tr>\n",
       "      <th>16</th>\n",
       "      <td>0.024612</td>\n",
       "      <td>region_factorize</td>\n",
       "    </tr>\n",
       "    <tr>\n",
       "      <th>28</th>\n",
       "      <td>0.024242</td>\n",
       "      <td>source_factorize</td>\n",
       "    </tr>\n",
       "    <tr>\n",
       "      <th>22</th>\n",
       "      <td>0.022821</td>\n",
       "      <td>management_factorize</td>\n",
       "    </tr>\n",
       "    <tr>\n",
       "      <th>3</th>\n",
       "      <td>0.017723</td>\n",
       "      <td>latitude</td>\n",
       "    </tr>\n",
       "    <tr>\n",
       "      <th>26</th>\n",
       "      <td>0.016964</td>\n",
       "      <td>quality_group_factorize</td>\n",
       "    </tr>\n",
       "    <tr>\n",
       "      <th>2</th>\n",
       "      <td>0.016874</td>\n",
       "      <td>longitude</td>\n",
       "    </tr>\n",
       "    <tr>\n",
       "      <th>17</th>\n",
       "      <td>0.014865</td>\n",
       "      <td>lga_factorize</td>\n",
       "    </tr>\n",
       "    <tr>\n",
       "      <th>19</th>\n",
       "      <td>0.014460</td>\n",
       "      <td>scheme_management_factorize</td>\n",
       "    </tr>\n",
       "    <tr>\n",
       "      <th>1</th>\n",
       "      <td>0.011632</td>\n",
       "      <td>gps_height</td>\n",
       "    </tr>\n",
       "    <tr>\n",
       "      <th>25</th>\n",
       "      <td>0.010753</td>\n",
       "      <td>water_quality_factorize</td>\n",
       "    </tr>\n",
       "    <tr>\n",
       "      <th>5</th>\n",
       "      <td>0.010312</td>\n",
       "      <td>region_code</td>\n",
       "    </tr>\n",
       "    <tr>\n",
       "      <th>7</th>\n",
       "      <td>0.009971</td>\n",
       "      <td>population</td>\n",
       "    </tr>\n",
       "    <tr>\n",
       "      <th>11</th>\n",
       "      <td>0.007645</td>\n",
       "      <td>funder_factorize</td>\n",
       "    </tr>\n",
       "    <tr>\n",
       "      <th>14</th>\n",
       "      <td>0.005962</td>\n",
       "      <td>basin_factorize</td>\n",
       "    </tr>\n",
       "    <tr>\n",
       "      <th>6</th>\n",
       "      <td>0.005750</td>\n",
       "      <td>district_code</td>\n",
       "    </tr>\n",
       "    <tr>\n",
       "      <th>12</th>\n",
       "      <td>0.005067</td>\n",
       "      <td>installer_factorize</td>\n",
       "    </tr>\n",
       "    <tr>\n",
       "      <th>30</th>\n",
       "      <td>0.004571</td>\n",
       "      <td>public_meeting_factorize</td>\n",
       "    </tr>\n",
       "    <tr>\n",
       "      <th>18</th>\n",
       "      <td>0.003770</td>\n",
       "      <td>ward_factorize</td>\n",
       "    </tr>\n",
       "    <tr>\n",
       "      <th>10</th>\n",
       "      <td>0.002349</td>\n",
       "      <td>date_recorded_age_yr</td>\n",
       "    </tr>\n",
       "    <tr>\n",
       "      <th>20</th>\n",
       "      <td>0.002295</td>\n",
       "      <td>permit_factorize</td>\n",
       "    </tr>\n",
       "    <tr>\n",
       "      <th>13</th>\n",
       "      <td>0.002182</td>\n",
       "      <td>wpt_name_factorize</td>\n",
       "    </tr>\n",
       "    <tr>\n",
       "      <th>15</th>\n",
       "      <td>0.000748</td>\n",
       "      <td>subvillage_factorize</td>\n",
       "    </tr>\n",
       "  </tbody>\n",
       "</table>\n",
       "</div>"
      ],
      "text/plain": [
       "    feature importances                          feature\n",
       "27             0.261708               quantity_factorize\n",
       "29             0.129522        waterpoint_type_factorize\n",
       "21             0.110492  extraction_type_group_factorize\n",
       "9              0.078729                      pump_age_yr\n",
       "8              0.074043                construction_year\n",
       "0              0.050452                       amount_tsh\n",
       "23             0.029701                payment_factorize\n",
       "24             0.029592           payment_type_factorize\n",
       "16             0.024612                 region_factorize\n",
       "28             0.024242                 source_factorize\n",
       "22             0.022821             management_factorize\n",
       "3              0.017723                         latitude\n",
       "26             0.016964          quality_group_factorize\n",
       "2              0.016874                        longitude\n",
       "17             0.014865                    lga_factorize\n",
       "19             0.014460      scheme_management_factorize\n",
       "1              0.011632                       gps_height\n",
       "25             0.010753          water_quality_factorize\n",
       "5              0.010312                      region_code\n",
       "7              0.009971                       population\n",
       "11             0.007645                 funder_factorize\n",
       "14             0.005962                  basin_factorize\n",
       "6              0.005750                    district_code\n",
       "12             0.005067              installer_factorize\n",
       "30             0.004571         public_meeting_factorize\n",
       "18             0.003770                   ward_factorize\n",
       "10             0.002349             date_recorded_age_yr\n",
       "20             0.002295                 permit_factorize\n",
       "13             0.002182               wpt_name_factorize\n",
       "15             0.000748             subvillage_factorize"
      ]
     },
     "execution_count": 35,
     "metadata": {},
     "output_type": "execute_result"
    }
   ],
   "source": [
    "rfc2B_feat_importances = rfc2B.feature_importances_\n",
    "rfc2B_coef = pd.DataFrame({'feature importances': rfc2B_feat_importances, 'feature': list(X_fact.columns.values)}, columns=['feature importances', 'feature'])\n",
    "rfc2B_coef.sort_values('feature importances', ascending=False).head(30)"
   ]
  },
  {
   "cell_type": "code",
   "execution_count": null,
   "metadata": {},
   "outputs": [],
   "source": []
  },
  {
   "cell_type": "markdown",
   "metadata": {},
   "source": [
    "# 3A Random Forest Classifier w/ CV = 5"
   ]
  },
  {
   "cell_type": "code",
   "execution_count": 36,
   "metadata": {},
   "outputs": [],
   "source": [
    "rfc3A = RandomForestClassifier(max_depth=6, random_state=42, n_estimators=1000)\n",
    "cv_scores_rfc3A = cross_val_score(rfc3A,X,y,cv=5)"
   ]
  },
  {
   "cell_type": "code",
   "execution_count": 37,
   "metadata": {},
   "outputs": [
    {
     "name": "stdout",
     "output_type": "stream",
     "text": [
      "[0.78714714 0.78061178 0.7884179  0.7855846  0.7931191 ]\n"
     ]
    }
   ],
   "source": [
    "print(cv_scores_rfc3A)"
   ]
  },
  {
   "cell_type": "code",
   "execution_count": 38,
   "metadata": {},
   "outputs": [
    {
     "name": "stdout",
     "output_type": "stream",
     "text": [
      "0.7869761042698322\n"
     ]
    }
   ],
   "source": [
    "print(np.mean(cv_scores_rfc3A))"
   ]
  },
  {
   "cell_type": "code",
   "execution_count": null,
   "metadata": {},
   "outputs": [],
   "source": []
  },
  {
   "cell_type": "code",
   "execution_count": null,
   "metadata": {},
   "outputs": [],
   "source": []
  },
  {
   "cell_type": "markdown",
   "metadata": {},
   "source": [
    "# 3B Random Forest Classifier w/ CV - Factorized"
   ]
  },
  {
   "cell_type": "code",
   "execution_count": 39,
   "metadata": {},
   "outputs": [],
   "source": [
    "rfc3B = RandomForestClassifier(max_depth=6, random_state=42, n_estimators=1000)\n",
    "cv_scores_rfc3B = cross_val_score(rfc3B,X_fact,y_fact,cv=5)"
   ]
  },
  {
   "cell_type": "code",
   "execution_count": 40,
   "metadata": {},
   "outputs": [
    {
     "name": "stdout",
     "output_type": "stream",
     "text": [
      "[0.78832713 0.77471181 0.782881   0.78331518 0.7864016 ]\n"
     ]
    }
   ],
   "source": [
    "print(cv_scores_rfc3B)"
   ]
  },
  {
   "cell_type": "code",
   "execution_count": 41,
   "metadata": {},
   "outputs": [
    {
     "name": "stdout",
     "output_type": "stream",
     "text": [
      "0.7831273435014178\n"
     ]
    }
   ],
   "source": [
    "print(np.mean(cv_scores_rfc3B))"
   ]
  },
  {
   "cell_type": "markdown",
   "metadata": {},
   "source": [
    "## ==========================\n",
    "## helper function for top N features, threshold features"
   ]
  },
  {
   "cell_type": "code",
   "execution_count": 42,
   "metadata": {},
   "outputs": [],
   "source": [
    "from sklearn.feature_selection import SelectFromModel\n",
    "\n",
    "# feature selection\n",
    "def select_features_threshold(X_train, y_train, X_test, threshold_pct):\n",
    "    # configure to select a subset of features\n",
    "    fs = SelectFromModel(RandomForestClassifier(max_depth=6, random_state=42, n_estimators=1000), threshold=threshold_pct)\n",
    "    \n",
    "    # learn relationship from training data\n",
    "    fs.fit(X_train, y_train)\n",
    "    # transform train input data\n",
    "    X_train_fs = fs.transform(X_train)\n",
    "    # transform test input data\n",
    "    X_test_fs = fs.transform(X_test)\n",
    "    return X_train_fs, X_test_fs, fs"
   ]
  },
  {
   "cell_type": "code",
   "execution_count": 43,
   "metadata": {},
   "outputs": [],
   "source": [
    "from sklearn.feature_selection import SelectFromModel\n",
    "\n",
    "# feature selection\n",
    "def select_features_topN(X_train, y_train, X_test, topN):\n",
    "    # configure to select a subset of features\n",
    "    fs = SelectFromModel(RandomForestClassifier(max_depth=6, random_state=42, n_estimators=1000), max_features=topN)\n",
    "    \n",
    "    # learn relationship from training data\n",
    "    fs.fit(X_train, y_train)\n",
    "    # transform train input data\n",
    "    X_train_fs = fs.transform(X_train)\n",
    "    # transform test input data\n",
    "    X_test_fs = fs.transform(X_test)\n",
    "    return X_train_fs, X_test_fs, fs"
   ]
  },
  {
   "cell_type": "markdown",
   "metadata": {},
   "source": [
    "# 4A Random Forest Classifier w/ Threshold 0.05 - One-Hot / Frequency Encoded"
   ]
  },
  {
   "cell_type": "code",
   "execution_count": 44,
   "metadata": {},
   "outputs": [],
   "source": [
    "# feature selection\n",
    "X_train_fs, X_test_fs, fs_rfc = select_features_threshold(X_train, y_train, X_test, threshold_pct=0.05)"
   ]
  },
  {
   "cell_type": "code",
   "execution_count": 45,
   "metadata": {},
   "outputs": [
    {
     "data": {
      "text/plain": [
       "Index(['extraction_type_group_other', 'quantity_dry', 'quantity_enough',\n",
       "       'waterpoint_type_other', 'pump_age_yr'],\n",
       "      dtype='object')"
      ]
     },
     "execution_count": 45,
     "metadata": {},
     "output_type": "execute_result"
    }
   ],
   "source": [
    "feature_idx_rfc = fs_rfc.get_support()\n",
    "\n",
    "feature_name_rfc = X_train.columns[feature_idx_rfc]\n",
    "feature_name_rfc"
   ]
  },
  {
   "cell_type": "code",
   "execution_count": 46,
   "metadata": {},
   "outputs": [],
   "source": [
    "rfc_fs = RandomForestClassifier(max_depth=6, random_state=42, n_estimators=1000)"
   ]
  },
  {
   "cell_type": "code",
   "execution_count": 47,
   "metadata": {
    "scrolled": true
   },
   "outputs": [
    {
     "data": {
      "text/plain": [
       "RandomForestClassifier(bootstrap=True, ccp_alpha=0.0, class_weight=None,\n",
       "                       criterion='gini', max_depth=6, max_features='auto',\n",
       "                       max_leaf_nodes=None, max_samples=None,\n",
       "                       min_impurity_decrease=0.0, min_impurity_split=None,\n",
       "                       min_samples_leaf=1, min_samples_split=2,\n",
       "                       min_weight_fraction_leaf=0.0, n_estimators=1000,\n",
       "                       n_jobs=None, oob_score=False, random_state=42, verbose=0,\n",
       "                       warm_start=False)"
      ]
     },
     "execution_count": 47,
     "metadata": {},
     "output_type": "execute_result"
    }
   ],
   "source": [
    "rfc_fs.fit(X_train_fs, y_train)"
   ]
  },
  {
   "cell_type": "code",
   "execution_count": 48,
   "metadata": {},
   "outputs": [
    {
     "data": {
      "text/plain": [
       "0.7640918580375783"
      ]
     },
     "execution_count": 48,
     "metadata": {},
     "output_type": "execute_result"
    }
   ],
   "source": [
    "rfc_fs.score(X_test_fs, y_test)"
   ]
  },
  {
   "cell_type": "code",
   "execution_count": 49,
   "metadata": {},
   "outputs": [],
   "source": [
    "y_pred_rfc_fs = rfc_fs.predict(X_test_fs)"
   ]
  },
  {
   "cell_type": "code",
   "execution_count": 283,
   "metadata": {},
   "outputs": [
    {
     "data": {
      "text/html": [
       "<div>\n",
       "<style scoped>\n",
       "    .dataframe tbody tr th:only-of-type {\n",
       "        vertical-align: middle;\n",
       "    }\n",
       "\n",
       "    .dataframe tbody tr th {\n",
       "        vertical-align: top;\n",
       "    }\n",
       "\n",
       "    .dataframe thead th {\n",
       "        text-align: right;\n",
       "    }\n",
       "</style>\n",
       "<table border=\"1\" class=\"dataframe\">\n",
       "  <thead>\n",
       "    <tr style=\"text-align: right;\">\n",
       "      <th></th>\n",
       "      <th>non functional</th>\n",
       "      <th>functional</th>\n",
       "    </tr>\n",
       "    <tr>\n",
       "      <th>Actual</th>\n",
       "      <th></th>\n",
       "      <th></th>\n",
       "    </tr>\n",
       "  </thead>\n",
       "  <tbody>\n",
       "    <tr>\n",
       "      <th>non functional</th>\n",
       "      <td>2262</td>\n",
       "      <td>2196</td>\n",
       "    </tr>\n",
       "    <tr>\n",
       "      <th>functional</th>\n",
       "      <td>403</td>\n",
       "      <td>6156</td>\n",
       "    </tr>\n",
       "  </tbody>\n",
       "</table>\n",
       "</div>"
      ],
      "text/plain": [
       "                non functional  functional\n",
       "Actual                                    \n",
       "non functional            2262        2196\n",
       "functional                 403        6156"
      ]
     },
     "execution_count": 283,
     "metadata": {},
     "output_type": "execute_result"
    }
   ],
   "source": [
    "getConfusionMatrixP(y_pred_rfc_fs, y_test, positive_label='non functional')"
   ]
  },
  {
   "cell_type": "code",
   "execution_count": 284,
   "metadata": {},
   "outputs": [
    {
     "data": {
      "text/plain": [
       "0.848780487804878"
      ]
     },
     "execution_count": 284,
     "metadata": {},
     "output_type": "execute_result"
    }
   ],
   "source": [
    "getPrecision(getConfusionMatrixP(y_pred_rfc_fs, y_test, 'non functional'),'non functional')"
   ]
  },
  {
   "cell_type": "code",
   "execution_count": 286,
   "metadata": {},
   "outputs": [
    {
     "data": {
      "text/plain": [
       "0.5074024226110363"
      ]
     },
     "execution_count": 286,
     "metadata": {},
     "output_type": "execute_result"
    }
   ],
   "source": [
    "getRecall(getConfusionMatrixP(y_pred_rfc_fs, y_test, 'non functional'),'non functional')"
   ]
  },
  {
   "cell_type": "code",
   "execution_count": 287,
   "metadata": {},
   "outputs": [
    {
     "name": "stdout",
     "output_type": "stream",
     "text": [
      "                precision    recall  f1-score   support\n",
      "\n",
      "    functional       0.74      0.94      0.83      6559\n",
      "non functional       0.85      0.51      0.64      4458\n",
      "\n",
      "      accuracy                           0.76     11017\n",
      "     macro avg       0.79      0.72      0.73     11017\n",
      "  weighted avg       0.78      0.76      0.75     11017\n",
      "\n"
     ]
    }
   ],
   "source": [
    "print(classification_report(y_test, y_pred_rfc_fs))"
   ]
  },
  {
   "cell_type": "markdown",
   "metadata": {},
   "source": [
    "# 4B Random Forest Classifier w/ threshold features 0.05 - Factorized"
   ]
  },
  {
   "cell_type": "code",
   "execution_count": 52,
   "metadata": {},
   "outputs": [],
   "source": [
    "# feature selection\n",
    "X_fact_train_fs, X_fact_test_fs, fs_fact_rfc = select_features_threshold(X_fact_train, \n",
    "                                                               y_fact_train, \n",
    "                                                               X_fact_test, \n",
    "                                                               threshold_pct=0.05)"
   ]
  },
  {
   "cell_type": "code",
   "execution_count": 53,
   "metadata": {},
   "outputs": [
    {
     "data": {
      "text/plain": [
       "Index(['amount_tsh', 'construction_year', 'pump_age_yr',\n",
       "       'extraction_type_group_factorize', 'quantity_factorize',\n",
       "       'waterpoint_type_factorize'],\n",
       "      dtype='object')"
      ]
     },
     "execution_count": 53,
     "metadata": {},
     "output_type": "execute_result"
    }
   ],
   "source": [
    "feature_idx_rfc_fact = fs_fact_rfc.get_support()\n",
    "feature_name_rfc_fact = X_fact_train.columns[feature_idx_rfc_fact]\n",
    "feature_name_rfc_fact"
   ]
  },
  {
   "cell_type": "code",
   "execution_count": 54,
   "metadata": {},
   "outputs": [],
   "source": [
    "rfc_fact_fs = RandomForestClassifier(max_depth=6, random_state=42, n_estimators=1000, max_features=6)"
   ]
  },
  {
   "cell_type": "code",
   "execution_count": 55,
   "metadata": {},
   "outputs": [
    {
     "data": {
      "text/plain": [
       "RandomForestClassifier(bootstrap=True, ccp_alpha=0.0, class_weight=None,\n",
       "                       criterion='gini', max_depth=6, max_features=6,\n",
       "                       max_leaf_nodes=None, max_samples=None,\n",
       "                       min_impurity_decrease=0.0, min_impurity_split=None,\n",
       "                       min_samples_leaf=1, min_samples_split=2,\n",
       "                       min_weight_fraction_leaf=0.0, n_estimators=1000,\n",
       "                       n_jobs=None, oob_score=False, random_state=42, verbose=0,\n",
       "                       warm_start=False)"
      ]
     },
     "execution_count": 55,
     "metadata": {},
     "output_type": "execute_result"
    }
   ],
   "source": [
    "rfc_fact_fs.fit(X_fact_train_fs, y_fact_train)"
   ]
  },
  {
   "cell_type": "code",
   "execution_count": 56,
   "metadata": {},
   "outputs": [
    {
     "data": {
      "text/plain": [
       "0.7739856585277298"
      ]
     },
     "execution_count": 56,
     "metadata": {},
     "output_type": "execute_result"
    }
   ],
   "source": [
    "rfc_fact_fs.score(X_fact_test_fs, y_fact_test)"
   ]
  },
  {
   "cell_type": "code",
   "execution_count": 57,
   "metadata": {},
   "outputs": [],
   "source": [
    "y_pred_rfc_fact_fs = rfc_fact_fs.predict(X_fact_test_fs)"
   ]
  },
  {
   "cell_type": "code",
   "execution_count": 288,
   "metadata": {},
   "outputs": [
    {
     "data": {
      "text/html": [
       "<div>\n",
       "<style scoped>\n",
       "    .dataframe tbody tr th:only-of-type {\n",
       "        vertical-align: middle;\n",
       "    }\n",
       "\n",
       "    .dataframe tbody tr th {\n",
       "        vertical-align: top;\n",
       "    }\n",
       "\n",
       "    .dataframe thead th {\n",
       "        text-align: right;\n",
       "    }\n",
       "</style>\n",
       "<table border=\"1\" class=\"dataframe\">\n",
       "  <thead>\n",
       "    <tr style=\"text-align: right;\">\n",
       "      <th></th>\n",
       "      <th>non functional</th>\n",
       "      <th>functional</th>\n",
       "    </tr>\n",
       "    <tr>\n",
       "      <th>Actual</th>\n",
       "      <th></th>\n",
       "      <th></th>\n",
       "    </tr>\n",
       "  </thead>\n",
       "  <tbody>\n",
       "    <tr>\n",
       "      <th>non functional</th>\n",
       "      <td>2305</td>\n",
       "      <td>2153</td>\n",
       "    </tr>\n",
       "    <tr>\n",
       "      <th>functional</th>\n",
       "      <td>337</td>\n",
       "      <td>6222</td>\n",
       "    </tr>\n",
       "  </tbody>\n",
       "</table>\n",
       "</div>"
      ],
      "text/plain": [
       "                non functional  functional\n",
       "Actual                                    \n",
       "non functional            2305        2153\n",
       "functional                 337        6222"
      ]
     },
     "execution_count": 288,
     "metadata": {},
     "output_type": "execute_result"
    }
   ],
   "source": [
    "getConfusionMatrix(y_pred_rfc_fact_fs, y_fact_test)"
   ]
  },
  {
   "cell_type": "code",
   "execution_count": 289,
   "metadata": {},
   "outputs": [
    {
     "data": {
      "text/plain": [
       "0.848780487804878"
      ]
     },
     "execution_count": 289,
     "metadata": {},
     "output_type": "execute_result"
    }
   ],
   "source": [
    "getPrecision(getConfusionMatrixP(y_pred_rfc_fs, y_test, 'non functional'),'non functional')"
   ]
  },
  {
   "cell_type": "code",
   "execution_count": 290,
   "metadata": {},
   "outputs": [
    {
     "data": {
      "text/plain": [
       "0.5074024226110363"
      ]
     },
     "execution_count": 290,
     "metadata": {},
     "output_type": "execute_result"
    }
   ],
   "source": [
    "getRecall(getConfusionMatrixP(y_pred_rfc_fs, y_test, 'non functional'),'non functional')"
   ]
  },
  {
   "cell_type": "code",
   "execution_count": 291,
   "metadata": {},
   "outputs": [
    {
     "name": "stdout",
     "output_type": "stream",
     "text": [
      "                precision    recall  f1-score   support\n",
      "\n",
      "    functional       0.74      0.95      0.83      6559\n",
      "non functional       0.87      0.52      0.65      4458\n",
      "\n",
      "      accuracy                           0.77     11017\n",
      "     macro avg       0.81      0.73      0.74     11017\n",
      "  weighted avg       0.80      0.77      0.76     11017\n",
      "\n"
     ]
    }
   ],
   "source": [
    "print(classification_report(y_fact_test, y_pred_rfc_fact_fs))"
   ]
  },
  {
   "cell_type": "markdown",
   "metadata": {},
   "source": [
    "# 5B Random Forest Classifier w/ Top 18 Features (via 0.01) - Factorized"
   ]
  },
  {
   "cell_type": "code",
   "execution_count": 60,
   "metadata": {},
   "outputs": [],
   "source": [
    "# feature selection\n",
    "X_fact_topN_train_fs, X_fact_topN_test_fs, fs_fact_topN_rfc = select_features_threshold(X_fact_train, y_fact_train, X_fact_test, 0.01)"
   ]
  },
  {
   "cell_type": "code",
   "execution_count": 61,
   "metadata": {},
   "outputs": [
    {
     "data": {
      "text/plain": [
       "Index(['amount_tsh', 'gps_height', 'longitude', 'latitude', 'region_code',\n",
       "       'construction_year', 'pump_age_yr', 'region_factorize', 'lga_factorize',\n",
       "       'scheme_management_factorize', 'extraction_type_group_factorize',\n",
       "       'management_factorize', 'payment_factorize', 'payment_type_factorize',\n",
       "       'water_quality_factorize', 'quality_group_factorize',\n",
       "       'quantity_factorize', 'source_factorize', 'waterpoint_type_factorize'],\n",
       "      dtype='object')"
      ]
     },
     "execution_count": 61,
     "metadata": {},
     "output_type": "execute_result"
    }
   ],
   "source": [
    "feature_idx_rfc_fact_topN = fs_fact_topN_rfc.get_support()\n",
    "\n",
    "feature_name_rfc_fact_topN = X_fact_train.columns[feature_idx_rfc_fact_topN]\n",
    "feature_name_rfc_fact_topN"
   ]
  },
  {
   "cell_type": "code",
   "execution_count": 62,
   "metadata": {},
   "outputs": [],
   "source": [
    "rfc_fact_topN_fs = RandomForestClassifier(max_depth=6, random_state=42, n_estimators=1000, max_features=18)"
   ]
  },
  {
   "cell_type": "code",
   "execution_count": 63,
   "metadata": {},
   "outputs": [
    {
     "data": {
      "text/plain": [
       "RandomForestClassifier(bootstrap=True, ccp_alpha=0.0, class_weight=None,\n",
       "                       criterion='gini', max_depth=6, max_features=18,\n",
       "                       max_leaf_nodes=None, max_samples=None,\n",
       "                       min_impurity_decrease=0.0, min_impurity_split=None,\n",
       "                       min_samples_leaf=1, min_samples_split=2,\n",
       "                       min_weight_fraction_leaf=0.0, n_estimators=1000,\n",
       "                       n_jobs=None, oob_score=False, random_state=42, verbose=0,\n",
       "                       warm_start=False)"
      ]
     },
     "execution_count": 63,
     "metadata": {},
     "output_type": "execute_result"
    }
   ],
   "source": [
    "rfc_fact_topN_fs.fit(X_fact_topN_train_fs, y_fact_train)"
   ]
  },
  {
   "cell_type": "code",
   "execution_count": 64,
   "metadata": {},
   "outputs": [
    {
     "data": {
      "text/plain": [
       "0.77834256149587"
      ]
     },
     "execution_count": 64,
     "metadata": {},
     "output_type": "execute_result"
    }
   ],
   "source": [
    "rfc_fact_topN_fs.score(X_fact_topN_test_fs, y_fact_test)"
   ]
  },
  {
   "cell_type": "code",
   "execution_count": 65,
   "metadata": {},
   "outputs": [],
   "source": [
    "y_pred_rfc_fact_topN_fs = rfc_fact_topN_fs.predict(X_fact_topN_test_fs)"
   ]
  },
  {
   "cell_type": "code",
   "execution_count": 292,
   "metadata": {},
   "outputs": [
    {
     "data": {
      "text/html": [
       "<div>\n",
       "<style scoped>\n",
       "    .dataframe tbody tr th:only-of-type {\n",
       "        vertical-align: middle;\n",
       "    }\n",
       "\n",
       "    .dataframe tbody tr th {\n",
       "        vertical-align: top;\n",
       "    }\n",
       "\n",
       "    .dataframe thead th {\n",
       "        text-align: right;\n",
       "    }\n",
       "</style>\n",
       "<table border=\"1\" class=\"dataframe\">\n",
       "  <thead>\n",
       "    <tr style=\"text-align: right;\">\n",
       "      <th></th>\n",
       "      <th>non functional</th>\n",
       "      <th>functional</th>\n",
       "    </tr>\n",
       "    <tr>\n",
       "      <th>Actual</th>\n",
       "      <th></th>\n",
       "      <th></th>\n",
       "    </tr>\n",
       "  </thead>\n",
       "  <tbody>\n",
       "    <tr>\n",
       "      <th>non functional</th>\n",
       "      <td>2405</td>\n",
       "      <td>2053</td>\n",
       "    </tr>\n",
       "    <tr>\n",
       "      <th>functional</th>\n",
       "      <td>389</td>\n",
       "      <td>6170</td>\n",
       "    </tr>\n",
       "  </tbody>\n",
       "</table>\n",
       "</div>"
      ],
      "text/plain": [
       "                non functional  functional\n",
       "Actual                                    \n",
       "non functional            2405        2053\n",
       "functional                 389        6170"
      ]
     },
     "execution_count": 292,
     "metadata": {},
     "output_type": "execute_result"
    }
   ],
   "source": [
    "getConfusionMatrix(y_pred_rfc_fact_topN_fs, y_fact_test)"
   ]
  },
  {
   "cell_type": "code",
   "execution_count": 67,
   "metadata": {},
   "outputs": [
    {
     "name": "stdout",
     "output_type": "stream",
     "text": [
      "                precision    recall  f1-score   support\n",
      "\n",
      "    functional       0.75      0.94      0.83      6559\n",
      "non functional       0.86      0.54      0.66      4458\n",
      "\n",
      "      accuracy                           0.78     11017\n",
      "     macro avg       0.81      0.74      0.75     11017\n",
      "  weighted avg       0.80      0.78      0.77     11017\n",
      "\n"
     ]
    }
   ],
   "source": [
    "print(classification_report(y_fact_test, y_pred_rfc_fact_topN_fs))"
   ]
  },
  {
   "cell_type": "code",
   "execution_count": 294,
   "metadata": {},
   "outputs": [
    {
     "data": {
      "text/plain": [
       "0.860773085182534"
      ]
     },
     "execution_count": 294,
     "metadata": {},
     "output_type": "execute_result"
    }
   ],
   "source": [
    "getPrecision(getConfusionMatrixP(y_pred_rfc_fact_topN_fs, y_fact_test, 'non functional'),'non functional')"
   ]
  },
  {
   "cell_type": "code",
   "execution_count": 295,
   "metadata": {},
   "outputs": [
    {
     "data": {
      "text/plain": [
       "0.5394795872588605"
      ]
     },
     "execution_count": 295,
     "metadata": {},
     "output_type": "execute_result"
    }
   ],
   "source": [
    "getRecall(getConfusionMatrixP(y_pred_rfc_fact_topN_fs, y_fact_test, 'non functional'),'non functional')"
   ]
  },
  {
   "cell_type": "code",
   "execution_count": 138,
   "metadata": {},
   "outputs": [
    {
     "data": {
      "text/plain": [
       "array([0.00916188, 0.58085415, 0.71027993, ..., 0.03778865, 0.41999948,\n",
       "       0.70124335])"
      ]
     },
     "execution_count": 138,
     "metadata": {},
     "output_type": "execute_result"
    }
   ],
   "source": [
    "# Compute predicted probabilities: y_pred_prob\n",
    "y_pred_prob = rfc_fact_topN_fs.predict_proba(X_fact_topN_test_fs)[:,0]\n",
    "y_pred_prob"
   ]
  },
  {
   "cell_type": "code",
   "execution_count": 296,
   "metadata": {},
   "outputs": [
    {
     "data": {
      "image/png": "[encoded data removed]",
      "text/plain": [
       "<Figure size 432x288 with 1 Axes>"
      ]
     },
     "metadata": {
      "needs_background": "light"
     },
     "output_type": "display_data"
    }
   ],
   "source": [
    "# Compute predicted probabilities: y_pred_prob\n",
    "y_pred_prob = rfc_fact_topN_fs.predict_proba(X_fact_topN_test_fs)[:,1]\n",
    "\n",
    "# Generate ROC curve values: fpr, tpr, thresholds\n",
    "fpr, tpr, thresholds = roc_curve(y_true=y_fact_test, y_score=y_pred_prob, pos_label='non functional')\n",
    "auc = metrics.roc_auc_score(y_test, y_pred_proba)\n",
    "\n",
    "# Plot ROC curve\n",
    "plt.plot([0, 1], [0, 1], 'k--', label='chance prediction')\n",
    "# plt.plot(fpr, tpr, label=\"model\")\n",
    "plt.plot(fpr, tpr, label=\"test data, auc=\"+str(round(auc,3)))\n",
    "plt.legend(loc=4)\n",
    "plt.xlabel('False Positive Rate')\n",
    "plt.ylabel('True Positive Rate')\n",
    "plt.title('ROC Curve - Non Functional as Positive')\n",
    "plt.show()"
   ]
  },
  {
   "cell_type": "code",
   "execution_count": null,
   "metadata": {},
   "outputs": [],
   "source": []
  }
 ],
 "metadata": {
  "kernelspec": {
   "display_name": "Python 3",
   "language": "python",
   "name": "python3"
  },
  "language_info": {
   "codemirror_mode": {
    "name": "ipython",
    "version": 3
   },
   "file_extension": ".py",
   "mimetype": "text/x-python",
   "name": "python",
   "nbconvert_exporter": "python",
   "pygments_lexer": "ipython3",
   "version": "3.7.7"
  }
 },
 "nbformat": 4,
 "nbformat_minor": 4
}
